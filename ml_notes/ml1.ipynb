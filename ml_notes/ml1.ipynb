{
 "cells": [
  {
   "cell_type": "code",
   "execution_count": 27,
   "id": "37d9bc1a-2e78-4964-a9fa-19b56cdf0fa0",
   "metadata": {
    "tags": []
   },
   "outputs": [
    {
     "data": {
      "text/plain": [
       "'1.2.2'"
      ]
     },
     "execution_count": 27,
     "metadata": {},
     "output_type": "execute_result"
    }
   ],
   "source": [
    "import sklearn\n",
    "import pandas as pd\n",
    "import numpy as np\n",
    "sklearn.__version__"
   ]
  },
  {
   "cell_type": "markdown",
   "id": "4b96e898-e171-4e8f-9480-307ed2ac62fa",
   "metadata": {},
   "source": [
    "### Linear Regression"
   ]
  },
  {
   "cell_type": "code",
   "execution_count": 7,
   "id": "1e2da2ef-deb4-4693-92a4-e60747bbd36c",
   "metadata": {
    "tags": []
   },
   "outputs": [],
   "source": [
    "df = pd.read_csv('../data/LinearRegressionData.csv')"
   ]
  },
  {
   "cell_type": "code",
   "execution_count": 8,
   "id": "6c1215d4-d5d5-4d8a-93f1-58a764a78d98",
   "metadata": {
    "tags": []
   },
   "outputs": [
    {
     "data": {
      "text/html": [
       "<div>\n",
       "<style scoped>\n",
       "    .dataframe tbody tr th:only-of-type {\n",
       "        vertical-align: middle;\n",
       "    }\n",
       "\n",
       "    .dataframe tbody tr th {\n",
       "        vertical-align: top;\n",
       "    }\n",
       "\n",
       "    .dataframe thead th {\n",
       "        text-align: right;\n",
       "    }\n",
       "</style>\n",
       "<table border=\"1\" class=\"dataframe\">\n",
       "  <thead>\n",
       "    <tr style=\"text-align: right;\">\n",
       "      <th></th>\n",
       "      <th>hour</th>\n",
       "      <th>score</th>\n",
       "    </tr>\n",
       "  </thead>\n",
       "  <tbody>\n",
       "    <tr>\n",
       "      <th>0</th>\n",
       "      <td>0.5</td>\n",
       "      <td>10</td>\n",
       "    </tr>\n",
       "    <tr>\n",
       "      <th>1</th>\n",
       "      <td>1.2</td>\n",
       "      <td>8</td>\n",
       "    </tr>\n",
       "    <tr>\n",
       "      <th>2</th>\n",
       "      <td>1.8</td>\n",
       "      <td>14</td>\n",
       "    </tr>\n",
       "    <tr>\n",
       "      <th>3</th>\n",
       "      <td>2.4</td>\n",
       "      <td>26</td>\n",
       "    </tr>\n",
       "    <tr>\n",
       "      <th>4</th>\n",
       "      <td>2.6</td>\n",
       "      <td>22</td>\n",
       "    </tr>\n",
       "  </tbody>\n",
       "</table>\n",
       "</div>"
      ],
      "text/plain": [
       "   hour  score\n",
       "0   0.5     10\n",
       "1   1.2      8\n",
       "2   1.8     14\n",
       "3   2.4     26\n",
       "4   2.6     22"
      ]
     },
     "execution_count": 8,
     "metadata": {},
     "output_type": "execute_result"
    }
   ],
   "source": [
    "df.head()"
   ]
  },
  {
   "cell_type": "code",
   "execution_count": 9,
   "id": "a8127a7f-a725-4f83-9451-f513e03ab9a8",
   "metadata": {
    "tags": []
   },
   "outputs": [],
   "source": [
    "X = df.iloc[:, :-1].values # 처음부터 마지막 컬럼 직전까지 - 독립 변수 \n",
    "y = df.iloc[:, -1].values # 마지막 컬럼 데이터 - 종속변수 "
   ]
  },
  {
   "cell_type": "code",
   "execution_count": 12,
   "id": "ebd53cac-4d32-438b-b7f1-89e2d4557062",
   "metadata": {
    "tags": []
   },
   "outputs": [
    {
     "data": {
      "text/plain": [
       "(array([[ 0.5],\n",
       "        [ 1.2],\n",
       "        [ 1.8],\n",
       "        [ 2.4],\n",
       "        [ 2.6],\n",
       "        [ 3.2],\n",
       "        [ 3.9],\n",
       "        [ 4.4],\n",
       "        [ 4.5],\n",
       "        [ 5. ],\n",
       "        [ 5.3],\n",
       "        [ 5.8],\n",
       "        [ 6. ],\n",
       "        [ 6.1],\n",
       "        [ 6.2],\n",
       "        [ 6.9],\n",
       "        [ 7.2],\n",
       "        [ 8.4],\n",
       "        [ 8.6],\n",
       "        [10. ]]),\n",
       " array([ 10,   8,  14,  26,  22,  30,  42,  48,  38,  58,  60,  72,  62,\n",
       "         68,  72,  58,  76,  86,  90, 100], dtype=int64))"
      ]
     },
     "execution_count": 12,
     "metadata": {},
     "output_type": "execute_result"
    }
   ],
   "source": [
    "X, y"
   ]
  },
  {
   "cell_type": "code",
   "execution_count": 28,
   "id": "f97fcc50-8070-442f-860e-23cf353f5833",
   "metadata": {
    "tags": []
   },
   "outputs": [
    {
     "data": {
      "text/html": [
       "<style>#sk-container-id-2 {color: black;background-color: white;}#sk-container-id-2 pre{padding: 0;}#sk-container-id-2 div.sk-toggleable {background-color: white;}#sk-container-id-2 label.sk-toggleable__label {cursor: pointer;display: block;width: 100%;margin-bottom: 0;padding: 0.3em;box-sizing: border-box;text-align: center;}#sk-container-id-2 label.sk-toggleable__label-arrow:before {content: \"▸\";float: left;margin-right: 0.25em;color: #696969;}#sk-container-id-2 label.sk-toggleable__label-arrow:hover:before {color: black;}#sk-container-id-2 div.sk-estimator:hover label.sk-toggleable__label-arrow:before {color: black;}#sk-container-id-2 div.sk-toggleable__content {max-height: 0;max-width: 0;overflow: hidden;text-align: left;background-color: #f0f8ff;}#sk-container-id-2 div.sk-toggleable__content pre {margin: 0.2em;color: black;border-radius: 0.25em;background-color: #f0f8ff;}#sk-container-id-2 input.sk-toggleable__control:checked~div.sk-toggleable__content {max-height: 200px;max-width: 100%;overflow: auto;}#sk-container-id-2 input.sk-toggleable__control:checked~label.sk-toggleable__label-arrow:before {content: \"▾\";}#sk-container-id-2 div.sk-estimator input.sk-toggleable__control:checked~label.sk-toggleable__label {background-color: #d4ebff;}#sk-container-id-2 div.sk-label input.sk-toggleable__control:checked~label.sk-toggleable__label {background-color: #d4ebff;}#sk-container-id-2 input.sk-hidden--visually {border: 0;clip: rect(1px 1px 1px 1px);clip: rect(1px, 1px, 1px, 1px);height: 1px;margin: -1px;overflow: hidden;padding: 0;position: absolute;width: 1px;}#sk-container-id-2 div.sk-estimator {font-family: monospace;background-color: #f0f8ff;border: 1px dotted black;border-radius: 0.25em;box-sizing: border-box;margin-bottom: 0.5em;}#sk-container-id-2 div.sk-estimator:hover {background-color: #d4ebff;}#sk-container-id-2 div.sk-parallel-item::after {content: \"\";width: 100%;border-bottom: 1px solid gray;flex-grow: 1;}#sk-container-id-2 div.sk-label:hover label.sk-toggleable__label {background-color: #d4ebff;}#sk-container-id-2 div.sk-serial::before {content: \"\";position: absolute;border-left: 1px solid gray;box-sizing: border-box;top: 0;bottom: 0;left: 50%;z-index: 0;}#sk-container-id-2 div.sk-serial {display: flex;flex-direction: column;align-items: center;background-color: white;padding-right: 0.2em;padding-left: 0.2em;position: relative;}#sk-container-id-2 div.sk-item {position: relative;z-index: 1;}#sk-container-id-2 div.sk-parallel {display: flex;align-items: stretch;justify-content: center;background-color: white;position: relative;}#sk-container-id-2 div.sk-item::before, #sk-container-id-2 div.sk-parallel-item::before {content: \"\";position: absolute;border-left: 1px solid gray;box-sizing: border-box;top: 0;bottom: 0;left: 50%;z-index: -1;}#sk-container-id-2 div.sk-parallel-item {display: flex;flex-direction: column;z-index: 1;position: relative;background-color: white;}#sk-container-id-2 div.sk-parallel-item:first-child::after {align-self: flex-end;width: 50%;}#sk-container-id-2 div.sk-parallel-item:last-child::after {align-self: flex-start;width: 50%;}#sk-container-id-2 div.sk-parallel-item:only-child::after {width: 0;}#sk-container-id-2 div.sk-dashed-wrapped {border: 1px dashed gray;margin: 0 0.4em 0.5em 0.4em;box-sizing: border-box;padding-bottom: 0.4em;background-color: white;}#sk-container-id-2 div.sk-label label {font-family: monospace;font-weight: bold;display: inline-block;line-height: 1.2em;}#sk-container-id-2 div.sk-label-container {text-align: center;}#sk-container-id-2 div.sk-container {/* jupyter's `normalize.less` sets `[hidden] { display: none; }` but bootstrap.min.css set `[hidden] { display: none !important; }` so we also need the `!important` here to be able to override the default hidden behavior on the sphinx rendered scikit-learn.org. See: https://github.com/scikit-learn/scikit-learn/issues/21755 */display: inline-block !important;position: relative;}#sk-container-id-2 div.sk-text-repr-fallback {display: none;}</style><div id=\"sk-container-id-2\" class=\"sk-top-container\"><div class=\"sk-text-repr-fallback\"><pre>LinearRegression()</pre><b>In a Jupyter environment, please rerun this cell to show the HTML representation or trust the notebook. <br />On GitHub, the HTML representation is unable to render, please try loading this page with nbviewer.org.</b></div><div class=\"sk-container\" hidden><div class=\"sk-item\"><div class=\"sk-estimator sk-toggleable\"><input class=\"sk-toggleable__control sk-hidden--visually\" id=\"sk-estimator-id-2\" type=\"checkbox\" checked><label for=\"sk-estimator-id-2\" class=\"sk-toggleable__label sk-toggleable__label-arrow\">LinearRegression</label><div class=\"sk-toggleable__content\"><pre>LinearRegression()</pre></div></div></div></div></div>"
      ],
      "text/plain": [
       "LinearRegression()"
      ]
     },
     "execution_count": 28,
     "metadata": {},
     "output_type": "execute_result"
    }
   ],
   "source": [
    "from sklearn.linear_model import LinearRegression\n",
    "reg = LinearRegression() # 객체 생성\n",
    "reg.fit(X,y) # 데이터 학습 => 모델 생성"
   ]
  },
  {
   "cell_type": "code",
   "execution_count": 29,
   "id": "17ccb85e-63cc-48b5-aec9-effbc08b7415",
   "metadata": {
    "tags": []
   },
   "outputs": [
    {
     "data": {
      "text/plain": [
       "array([  5.00336377,  12.31395163,  18.58016979,  24.84638795,\n",
       "        26.93512734,  33.20134551,  40.51193337,  45.73378184,\n",
       "        46.77815153,  52.        ,  55.13310908,  60.35495755,\n",
       "        62.44369694,  63.48806663,  64.53243633,  71.84302419,\n",
       "        74.97613327,  87.5085696 ,  89.59730899, 104.2184847 ])"
      ]
     },
     "execution_count": 29,
     "metadata": {},
     "output_type": "execute_result"
    }
   ],
   "source": [
    "y_pred = reg.predict(X) # X에 대한 예측 값\n",
    "y_pred"
   ]
  },
  {
   "cell_type": "code",
   "execution_count": 30,
   "id": "770f81d0-616f-492e-b2e7-ba09a925fc37",
   "metadata": {
    "tags": []
   },
   "outputs": [
    {
     "data": {
      "text/plain": [
       "Text(0, 0.5, 'Score')"
      ]
     },
     "execution_count": 30,
     "metadata": {},
     "output_type": "execute_result"
    },
    {
     "data": {
      "image/png": "[encoded data removed]",
      "text/plain": [
       "<Figure size 640x480 with 1 Axes>"
      ]
     },
     "metadata": {},
     "output_type": "display_data"
    }
   ],
   "source": [
    "import matplotlib.pyplot as plt\n",
    "plt.scatter(X,y, color =\"blue\") # 산점도\n",
    "plt.plot(X, y_pred) # y_pred 선그래프\n",
    "plt.title(\"Score by hours\")\n",
    "plt.xlabel(\"hours\")\n",
    "plt.ylabel(\"Score\")"
   ]
  },
  {
   "cell_type": "code",
   "execution_count": 36,
   "id": "eadb46fb-8947-4a50-b8c4-a9a88faf64f5",
   "metadata": {
    "tags": []
   },
   "outputs": [
    {
     "name": "stdout",
     "output_type": "stream",
     "text": [
      "각 시간별 공부 시에 예측 점수 :  [52.         62.44369694 93.77478776]\n"
     ]
    }
   ],
   "source": [
    "print(\"각 시간별 공부 시에 예측 점수 : \", reg.predict([[5],[6],[9]]) )"
   ]
  },
  {
   "cell_type": "code",
   "execution_count": 37,
   "id": "638144a6-e95d-49cd-830a-ca3b74eaff8a",
   "metadata": {
    "tags": []
   },
   "outputs": [
    {
     "data": {
      "text/plain": [
       "array([10.44369694])"
      ]
     },
     "execution_count": 37,
     "metadata": {},
     "output_type": "execute_result"
    }
   ],
   "source": [
    "reg.coef_ # 기울기 (m)"
   ]
  },
  {
   "cell_type": "code",
   "execution_count": 39,
   "id": "6fe2b819-07ec-4b48-a860-068936cbbb80",
   "metadata": {
    "tags": []
   },
   "outputs": [
    {
     "data": {
      "text/plain": [
       "-0.218484702867201"
      ]
     },
     "execution_count": 39,
     "metadata": {},
     "output_type": "execute_result"
    }
   ],
   "source": [
    "reg.intercept_ # y 절편(b) "
   ]
  },
  {
   "cell_type": "markdown",
   "id": "e46b3fae-92c2-4316-b851-04ea742ce6b0",
   "metadata": {},
   "source": [
    "y = mx +b -> 10.4437x - 0.2185"
   ]
  },
  {
   "cell_type": "markdown",
   "id": "4d35498c-1e40-4093-908b-ff645d353848",
   "metadata": {},
   "source": [
    "### 데이터 세트 분리"
   ]
  },
  {
   "cell_type": "code",
   "execution_count": 1,
   "id": "6e553cc0-ec95-4659-ada8-03e506ddec82",
   "metadata": {},
   "outputs": [
    {
     "data": {
      "text/html": [
       "<div>\n",
       "<style scoped>\n",
       "    .dataframe tbody tr th:only-of-type {\n",
       "        vertical-align: middle;\n",
       "    }\n",
       "\n",
       "    .dataframe tbody tr th {\n",
       "        vertical-align: top;\n",
       "    }\n",
       "\n",
       "    .dataframe thead th {\n",
       "        text-align: right;\n",
       "    }\n",
       "</style>\n",
       "<table border=\"1\" class=\"dataframe\">\n",
       "  <thead>\n",
       "    <tr style=\"text-align: right;\">\n",
       "      <th></th>\n",
       "      <th>hour</th>\n",
       "      <th>score</th>\n",
       "    </tr>\n",
       "  </thead>\n",
       "  <tbody>\n",
       "    <tr>\n",
       "      <th>0</th>\n",
       "      <td>0.5</td>\n",
       "      <td>10</td>\n",
       "    </tr>\n",
       "    <tr>\n",
       "      <th>1</th>\n",
       "      <td>1.2</td>\n",
       "      <td>8</td>\n",
       "    </tr>\n",
       "    <tr>\n",
       "      <th>2</th>\n",
       "      <td>1.8</td>\n",
       "      <td>14</td>\n",
       "    </tr>\n",
       "    <tr>\n",
       "      <th>3</th>\n",
       "      <td>2.4</td>\n",
       "      <td>26</td>\n",
       "    </tr>\n",
       "    <tr>\n",
       "      <th>4</th>\n",
       "      <td>2.6</td>\n",
       "      <td>22</td>\n",
       "    </tr>\n",
       "    <tr>\n",
       "      <th>5</th>\n",
       "      <td>3.2</td>\n",
       "      <td>30</td>\n",
       "    </tr>\n",
       "    <tr>\n",
       "      <th>6</th>\n",
       "      <td>3.9</td>\n",
       "      <td>42</td>\n",
       "    </tr>\n",
       "    <tr>\n",
       "      <th>7</th>\n",
       "      <td>4.4</td>\n",
       "      <td>48</td>\n",
       "    </tr>\n",
       "    <tr>\n",
       "      <th>8</th>\n",
       "      <td>4.5</td>\n",
       "      <td>38</td>\n",
       "    </tr>\n",
       "    <tr>\n",
       "      <th>9</th>\n",
       "      <td>5.0</td>\n",
       "      <td>58</td>\n",
       "    </tr>\n",
       "    <tr>\n",
       "      <th>10</th>\n",
       "      <td>5.3</td>\n",
       "      <td>60</td>\n",
       "    </tr>\n",
       "    <tr>\n",
       "      <th>11</th>\n",
       "      <td>5.8</td>\n",
       "      <td>72</td>\n",
       "    </tr>\n",
       "    <tr>\n",
       "      <th>12</th>\n",
       "      <td>6.0</td>\n",
       "      <td>62</td>\n",
       "    </tr>\n",
       "    <tr>\n",
       "      <th>13</th>\n",
       "      <td>6.1</td>\n",
       "      <td>68</td>\n",
       "    </tr>\n",
       "    <tr>\n",
       "      <th>14</th>\n",
       "      <td>6.2</td>\n",
       "      <td>72</td>\n",
       "    </tr>\n",
       "    <tr>\n",
       "      <th>15</th>\n",
       "      <td>6.9</td>\n",
       "      <td>58</td>\n",
       "    </tr>\n",
       "    <tr>\n",
       "      <th>16</th>\n",
       "      <td>7.2</td>\n",
       "      <td>76</td>\n",
       "    </tr>\n",
       "    <tr>\n",
       "      <th>17</th>\n",
       "      <td>8.4</td>\n",
       "      <td>86</td>\n",
       "    </tr>\n",
       "    <tr>\n",
       "      <th>18</th>\n",
       "      <td>8.6</td>\n",
       "      <td>90</td>\n",
       "    </tr>\n",
       "    <tr>\n",
       "      <th>19</th>\n",
       "      <td>10.0</td>\n",
       "      <td>100</td>\n",
       "    </tr>\n",
       "  </tbody>\n",
       "</table>\n",
       "</div>"
      ],
      "text/plain": [
       "    hour  score\n",
       "0    0.5     10\n",
       "1    1.2      8\n",
       "2    1.8     14\n",
       "3    2.4     26\n",
       "4    2.6     22\n",
       "5    3.2     30\n",
       "6    3.9     42\n",
       "7    4.4     48\n",
       "8    4.5     38\n",
       "9    5.0     58\n",
       "10   5.3     60\n",
       "11   5.8     72\n",
       "12   6.0     62\n",
       "13   6.1     68\n",
       "14   6.2     72\n",
       "15   6.9     58\n",
       "16   7.2     76\n",
       "17   8.4     86\n",
       "18   8.6     90\n",
       "19  10.0    100"
      ]
     },
     "execution_count": 1,
     "metadata": {},
     "output_type": "execute_result"
    }
   ],
   "source": [
    "import matplotlib.pyplot as plt\n",
    "import pandas as pd\n",
    "df = pd.read_csv('../data/LinearRegressionData.csv')\n",
    "df"
   ]
  },
  {
   "cell_type": "code",
   "execution_count": 2,
   "id": "51a67c87-000e-4b47-ab17-ee3527f37be2",
   "metadata": {},
   "outputs": [],
   "source": [
    "X = df.iloc[:, : -1].values\n",
    "y = df.iloc[:,-1]"
   ]
  },
  {
   "cell_type": "code",
   "execution_count": 6,
   "id": "6608e2ae-77cc-422c-8c1a-e1f422773625",
   "metadata": {},
   "outputs": [],
   "source": [
    "from sklearn.model_selection import train_test_split\n",
    "X_train, X_test, y_train, y_test = train_test_split(X,y, test_size=0.2, random_state=0) # 80:20 분리"
   ]
  },
  {
   "cell_type": "code",
   "execution_count": 7,
   "id": "3547ad2d-862e-4a90-897f-2118581f700a",
   "metadata": {
    "tags": []
   },
   "outputs": [
    {
     "data": {
      "text/plain": [
       "(array([[ 0.5],\n",
       "        [ 1.2],\n",
       "        [ 1.8],\n",
       "        [ 2.4],\n",
       "        [ 2.6],\n",
       "        [ 3.2],\n",
       "        [ 3.9],\n",
       "        [ 4.4],\n",
       "        [ 4.5],\n",
       "        [ 5. ],\n",
       "        [ 5.3],\n",
       "        [ 5.8],\n",
       "        [ 6. ],\n",
       "        [ 6.1],\n",
       "        [ 6.2],\n",
       "        [ 6.9],\n",
       "        [ 7.2],\n",
       "        [ 8.4],\n",
       "        [ 8.6],\n",
       "        [10. ]]),\n",
       " 20)"
      ]
     },
     "execution_count": 7,
     "metadata": {},
     "output_type": "execute_result"
    }
   ],
   "source": [
    "X,len(X) # 데이터 x 와 갯수"
   ]
  },
  {
   "cell_type": "code",
   "execution_count": 8,
   "id": "5c296a7e-cfc3-4e35-9241-90d6b72c3149",
   "metadata": {
    "tags": []
   },
   "outputs": [
    {
     "data": {
      "text/plain": [
       "(array([[5.3],\n",
       "        [8.4],\n",
       "        [3.9],\n",
       "        [6.1],\n",
       "        [2.6],\n",
       "        [1.8],\n",
       "        [3.2],\n",
       "        [6.2],\n",
       "        [5. ],\n",
       "        [4.4],\n",
       "        [7.2],\n",
       "        [5.8],\n",
       "        [2.4],\n",
       "        [0.5],\n",
       "        [6.9],\n",
       "        [6. ]]),\n",
       " 16)"
      ]
     },
     "execution_count": 8,
     "metadata": {},
     "output_type": "execute_result"
    }
   ],
   "source": [
    "X_train, len(X_train) # 훈련세트 확인"
   ]
  },
  {
   "cell_type": "code",
   "execution_count": 9,
   "id": "297130b8-b6b5-42cf-8081-b6a8f89a0833",
   "metadata": {
    "tags": []
   },
   "outputs": [
    {
     "data": {
      "text/plain": [
       "(array([[ 8.6],\n",
       "        [ 1.2],\n",
       "        [10. ],\n",
       "        [ 4.5]]),\n",
       " 4)"
      ]
     },
     "execution_count": 9,
     "metadata": {},
     "output_type": "execute_result"
    }
   ],
   "source": [
    "X_test, len(X_test)"
   ]
  },
  {
   "cell_type": "code",
   "execution_count": 11,
   "id": "f98479e0-8d0c-4b2f-be1d-8ec94d2bad74",
   "metadata": {
    "tags": []
   },
   "outputs": [
    {
     "data": {
      "text/plain": [
       "(0      10\n",
       " 1       8\n",
       " 2      14\n",
       " 3      26\n",
       " 4      22\n",
       " 5      30\n",
       " 6      42\n",
       " 7      48\n",
       " 8      38\n",
       " 9      58\n",
       " 10     60\n",
       " 11     72\n",
       " 12     62\n",
       " 13     68\n",
       " 14     72\n",
       " 15     58\n",
       " 16     76\n",
       " 17     86\n",
       " 18     90\n",
       " 19    100\n",
       " Name: score, dtype: int64,\n",
       " 20)"
      ]
     },
     "execution_count": 11,
     "metadata": {},
     "output_type": "execute_result"
    }
   ],
   "source": [
    "y,len(y)"
   ]
  },
  {
   "cell_type": "code",
   "execution_count": 13,
   "id": "8967cc4c-411a-40bc-aae2-cb46c696767d",
   "metadata": {
    "tags": []
   },
   "outputs": [
    {
     "data": {
      "text/plain": [
       "(10    60\n",
       " 17    86\n",
       " 6     42\n",
       " 13    68\n",
       " 4     22\n",
       " 2     14\n",
       " 5     30\n",
       " 14    72\n",
       " 9     58\n",
       " 7     48\n",
       " 16    76\n",
       " 11    72\n",
       " 3     26\n",
       " 0     10\n",
       " 15    58\n",
       " 12    62\n",
       " Name: score, dtype: int64,\n",
       " 16)"
      ]
     },
     "execution_count": 13,
     "metadata": {},
     "output_type": "execute_result"
    }
   ],
   "source": [
    "y_train,len(y_train)"
   ]
  },
  {
   "cell_type": "code",
   "execution_count": 10,
   "id": "d3cda2f2-efbb-4959-8911-5e7e0c3681f6",
   "metadata": {
    "tags": []
   },
   "outputs": [
    {
     "data": {
      "text/plain": [
       "(18     90\n",
       " 1       8\n",
       " 19    100\n",
       " 8      38\n",
       " Name: score, dtype: int64,\n",
       " 20)"
      ]
     },
     "execution_count": 10,
     "metadata": {},
     "output_type": "execute_result"
    }
   ],
   "source": [
    "y_test,len(y)"
   ]
  },
  {
   "cell_type": "markdown",
   "id": "2c17c03c-0bd3-4585-b80d-2e78b275988f",
   "metadata": {},
   "source": [
    "### 분리된 데이터를 통한 모델링"
   ]
  },
  {
   "cell_type": "code",
   "execution_count": 15,
   "id": "253d6d35-570c-4602-b363-6ed7f9cdd4e0",
   "metadata": {
    "tags": []
   },
   "outputs": [],
   "source": [
    "from sklearn.linear_model import LinearRegression\n",
    "reg = LinearRegression()"
   ]
  },
  {
   "cell_type": "code",
   "execution_count": 16,
   "id": "47a9b0a0-bbe0-48a9-a7fc-5313d71d9c92",
   "metadata": {
    "tags": []
   },
   "outputs": [
    {
     "data": {
      "text/html": [
       "<style>#sk-container-id-1 {color: black;background-color: white;}#sk-container-id-1 pre{padding: 0;}#sk-container-id-1 div.sk-toggleable {background-color: white;}#sk-container-id-1 label.sk-toggleable__label {cursor: pointer;display: block;width: 100%;margin-bottom: 0;padding: 0.3em;box-sizing: border-box;text-align: center;}#sk-container-id-1 label.sk-toggleable__label-arrow:before {content: \"▸\";float: left;margin-right: 0.25em;color: #696969;}#sk-container-id-1 label.sk-toggleable__label-arrow:hover:before {color: black;}#sk-container-id-1 div.sk-estimator:hover label.sk-toggleable__label-arrow:before {color: black;}#sk-container-id-1 div.sk-toggleable__content {max-height: 0;max-width: 0;overflow: hidden;text-align: left;background-color: #f0f8ff;}#sk-container-id-1 div.sk-toggleable__content pre {margin: 0.2em;color: black;border-radius: 0.25em;background-color: #f0f8ff;}#sk-container-id-1 input.sk-toggleable__control:checked~div.sk-toggleable__content {max-height: 200px;max-width: 100%;overflow: auto;}#sk-container-id-1 input.sk-toggleable__control:checked~label.sk-toggleable__label-arrow:before {content: \"▾\";}#sk-container-id-1 div.sk-estimator input.sk-toggleable__control:checked~label.sk-toggleable__label {background-color: #d4ebff;}#sk-container-id-1 div.sk-label input.sk-toggleable__control:checked~label.sk-toggleable__label {background-color: #d4ebff;}#sk-container-id-1 input.sk-hidden--visually {border: 0;clip: rect(1px 1px 1px 1px);clip: rect(1px, 1px, 1px, 1px);height: 1px;margin: -1px;overflow: hidden;padding: 0;position: absolute;width: 1px;}#sk-container-id-1 div.sk-estimator {font-family: monospace;background-color: #f0f8ff;border: 1px dotted black;border-radius: 0.25em;box-sizing: border-box;margin-bottom: 0.5em;}#sk-container-id-1 div.sk-estimator:hover {background-color: #d4ebff;}#sk-container-id-1 div.sk-parallel-item::after {content: \"\";width: 100%;border-bottom: 1px solid gray;flex-grow: 1;}#sk-container-id-1 div.sk-label:hover label.sk-toggleable__label {background-color: #d4ebff;}#sk-container-id-1 div.sk-serial::before {content: \"\";position: absolute;border-left: 1px solid gray;box-sizing: border-box;top: 0;bottom: 0;left: 50%;z-index: 0;}#sk-container-id-1 div.sk-serial {display: flex;flex-direction: column;align-items: center;background-color: white;padding-right: 0.2em;padding-left: 0.2em;position: relative;}#sk-container-id-1 div.sk-item {position: relative;z-index: 1;}#sk-container-id-1 div.sk-parallel {display: flex;align-items: stretch;justify-content: center;background-color: white;position: relative;}#sk-container-id-1 div.sk-item::before, #sk-container-id-1 div.sk-parallel-item::before {content: \"\";position: absolute;border-left: 1px solid gray;box-sizing: border-box;top: 0;bottom: 0;left: 50%;z-index: -1;}#sk-container-id-1 div.sk-parallel-item {display: flex;flex-direction: column;z-index: 1;position: relative;background-color: white;}#sk-container-id-1 div.sk-parallel-item:first-child::after {align-self: flex-end;width: 50%;}#sk-container-id-1 div.sk-parallel-item:last-child::after {align-self: flex-start;width: 50%;}#sk-container-id-1 div.sk-parallel-item:only-child::after {width: 0;}#sk-container-id-1 div.sk-dashed-wrapped {border: 1px dashed gray;margin: 0 0.4em 0.5em 0.4em;box-sizing: border-box;padding-bottom: 0.4em;background-color: white;}#sk-container-id-1 div.sk-label label {font-family: monospace;font-weight: bold;display: inline-block;line-height: 1.2em;}#sk-container-id-1 div.sk-label-container {text-align: center;}#sk-container-id-1 div.sk-container {/* jupyter's `normalize.less` sets `[hidden] { display: none; }` but bootstrap.min.css set `[hidden] { display: none !important; }` so we also need the `!important` here to be able to override the default hidden behavior on the sphinx rendered scikit-learn.org. See: https://github.com/scikit-learn/scikit-learn/issues/21755 */display: inline-block !important;position: relative;}#sk-container-id-1 div.sk-text-repr-fallback {display: none;}</style><div id=\"sk-container-id-1\" class=\"sk-top-container\"><div class=\"sk-text-repr-fallback\"><pre>LinearRegression()</pre><b>In a Jupyter environment, please rerun this cell to show the HTML representation or trust the notebook. <br />On GitHub, the HTML representation is unable to render, please try loading this page with nbviewer.org.</b></div><div class=\"sk-container\" hidden><div class=\"sk-item\"><div class=\"sk-estimator sk-toggleable\"><input class=\"sk-toggleable__control sk-hidden--visually\" id=\"sk-estimator-id-1\" type=\"checkbox\" checked><label for=\"sk-estimator-id-1\" class=\"sk-toggleable__label sk-toggleable__label-arrow\">LinearRegression</label><div class=\"sk-toggleable__content\"><pre>LinearRegression()</pre></div></div></div></div></div>"
      ],
      "text/plain": [
       "LinearRegression()"
      ]
     },
     "execution_count": 16,
     "metadata": {},
     "output_type": "execute_result"
    }
   ],
   "source": [
    "reg.fit(X_train,y_train)"
   ]
  },
  {
   "cell_type": "markdown",
   "id": "c0ef4378-2b53-4f13-90c3-4ebb1cf56bf2",
   "metadata": {},
   "source": [
    "#### 훈련데이터 시각화"
   ]
  },
  {
   "cell_type": "code",
   "execution_count": 21,
   "id": "9119e317-3d19-4a24-a6bd-7d0a49e85cf9",
   "metadata": {
    "tags": []
   },
   "outputs": [
    {
     "data": {
      "text/plain": [
       "Text(0, 0.5, 'Score')"
      ]
     },
     "execution_count": 21,
     "metadata": {},
     "output_type": "execute_result"
    },
    {
     "data": {
      "image/png": "[encoded data removed]",
      "text/plain": [
       "<Figure size 640x480 with 1 Axes>"
      ]
     },
     "metadata": {},
     "output_type": "display_data"
    }
   ],
   "source": [
    "plt.scatter(X_train, y_train, color =\"blue\") # 산점도\n",
    "plt.plot(X_train, reg.predict(X_train), color = 'green') # X_train 선그래프\n",
    "plt.title(\"Score by hours (Train data)\")\n",
    "plt.xlabel(\"hours\")\n",
    "plt.ylabel(\"Score\")"
   ]
  },
  {
   "cell_type": "markdown",
   "id": "2c438313-5445-4872-991d-cecd1c0ddeed",
   "metadata": {},
   "source": [
    "#### 테스트 데이터 시각화"
   ]
  },
  {
   "cell_type": "code",
   "execution_count": 22,
   "id": "4837c7cb-76e4-4d7c-81c2-9cdd93a03fdc",
   "metadata": {
    "tags": []
   },
   "outputs": [
    {
     "data": {
      "text/plain": [
       "Text(0, 0.5, 'Score')"
      ]
     },
     "execution_count": 22,
     "metadata": {},
     "output_type": "execute_result"
    },
    {
     "data": {
      "image/png": "[encoded data removed]",
      "text/plain": [
       "<Figure size 640x480 with 1 Axes>"
      ]
     },
     "metadata": {},
     "output_type": "display_data"
    }
   ],
   "source": [
    "plt.scatter(X_test, y_test, color =\"blue\") # test 데이터 산점도\n",
    "plt.plot(X_train, reg.predict(X_train), color = 'green') # X_train 선그래프\n",
    "plt.title(\"Score by hours (test data)\")\n",
    "plt.xlabel(\"hours\")\n",
    "plt.ylabel(\"Score\")"
   ]
  },
  {
   "cell_type": "code",
   "execution_count": 23,
   "id": "7ebb8a61-2647-467d-b773-85afb2bce2fe",
   "metadata": {
    "tags": []
   },
   "outputs": [
    {
     "data": {
      "text/plain": [
       "array([10.49161294])"
      ]
     },
     "execution_count": 23,
     "metadata": {},
     "output_type": "execute_result"
    }
   ],
   "source": [
    "reg.coef_"
   ]
  },
  {
   "cell_type": "code",
   "execution_count": 24,
   "id": "378bfd3f-9a3c-4125-8273-7eeb4db60347",
   "metadata": {
    "tags": []
   },
   "outputs": [
    {
     "data": {
      "text/plain": [
       "0.6115562905169369"
      ]
     },
     "execution_count": 24,
     "metadata": {},
     "output_type": "execute_result"
    }
   ],
   "source": [
    "reg.intercept_"
   ]
  },
  {
   "cell_type": "markdown",
   "id": "3d62d28d-4032-48fc-bd34-ddf37c4b26a0",
   "metadata": {},
   "source": [
    "### 모델 평가"
   ]
  },
  {
   "cell_type": "code",
   "execution_count": 25,
   "id": "eaad79ca-9b5a-4fa5-9c6b-7185d80cf232",
   "metadata": {
    "tags": []
   },
   "outputs": [
    {
     "data": {
      "text/plain": [
       "0.9727616474310156"
      ]
     },
     "execution_count": 25,
     "metadata": {},
     "output_type": "execute_result"
    }
   ],
   "source": [
    "reg.score(X_test, y_test) # 테스트 세트를 통한 모델 평가"
   ]
  },
  {
   "cell_type": "code",
   "execution_count": 26,
   "id": "f0f78a00-8e47-4d4f-911c-e1b5b19d56ea",
   "metadata": {
    "tags": []
   },
   "outputs": [
    {
     "data": {
      "text/plain": [
       "0.9356663661221668"
      ]
     },
     "execution_count": 26,
     "metadata": {},
     "output_type": "execute_result"
    }
   ],
   "source": [
    "reg.score(X_train, y_train) # 훈련세트 모델 평가"
   ]
  },
  {
   "cell_type": "markdown",
   "id": "e02f273c-3495-4e9c-be41-3541f304c3e5",
   "metadata": {},
   "source": [
    "## 경사하강법 (Gradient Descent)"
   ]
  },
  {
   "cell_type": "code",
   "execution_count": 4,
   "id": "89084753-a583-463a-8c0e-9b5a8e18451b",
   "metadata": {
    "tags": []
   },
   "outputs": [],
   "source": [
    "import matplotlib.pyplot as plt\n",
    "import pandas as pd\n",
    "df = pd.read_csv('../data/LinearRegressionData.csv')\n",
    "df\n",
    "from sklearn.model_selection import train_test_split\n",
    "X_train, X_test, y_train, y_test = train_test_split(X,y, test_size=0.2, random_state=0) # 80:20 분리"
   ]
  },
  {
   "cell_type": "code",
   "execution_count": 16,
   "id": "ab05b90d-fcea-47fd-ad57-6ef989550e76",
   "metadata": {
    "tags": []
   },
   "outputs": [
    {
     "name": "stdout",
     "output_type": "stream",
     "text": [
      "-- Epoch 1\n",
      "Norm: 0.27, NNZs: 1, Bias: 0.048774, T: 16, Avg. loss: 1485.010217\n",
      "Total training time: 0.00 seconds.\n",
      "-- Epoch 2\n",
      "Norm: 0.47, NNZs: 1, Bias: 0.083858, T: 32, Avg. loss: 1418.864244\n",
      "Total training time: 0.00 seconds.\n",
      "-- Epoch 3\n",
      "Norm: 0.64, NNZs: 1, Bias: 0.114180, T: 48, Avg. loss: 1366.956067\n",
      "Total training time: 0.00 seconds.\n",
      "-- Epoch 4\n",
      "Norm: 0.80, NNZs: 1, Bias: 0.141426, T: 64, Avg. loss: 1322.029496\n",
      "Total training time: 0.00 seconds.\n",
      "-- Epoch 5\n",
      "Norm: 0.94, NNZs: 1, Bias: 0.166724, T: 80, Avg. loss: 1281.684548\n",
      "Total training time: 0.00 seconds.\n",
      "-- Epoch 6\n",
      "Norm: 1.07, NNZs: 1, Bias: 0.190334, T: 96, Avg. loss: 1244.699624\n",
      "Total training time: 0.00 seconds.\n",
      "-- Epoch 7\n",
      "Norm: 1.20, NNZs: 1, Bias: 0.212698, T: 112, Avg. loss: 1210.479050\n",
      "Total training time: 0.00 seconds.\n",
      "-- Epoch 8\n",
      "Norm: 1.32, NNZs: 1, Bias: 0.233987, T: 128, Avg. loss: 1178.395852\n",
      "Total training time: 0.00 seconds.\n",
      "-- Epoch 9\n",
      "Norm: 1.44, NNZs: 1, Bias: 0.254365, T: 144, Avg. loss: 1148.167717\n",
      "Total training time: 0.00 seconds.\n",
      "-- Epoch 10\n",
      "Norm: 1.55, NNZs: 1, Bias: 0.273923, T: 160, Avg. loss: 1119.599326\n",
      "Total training time: 0.00 seconds.\n",
      "-- Epoch 11\n",
      "Norm: 1.65, NNZs: 1, Bias: 0.292766, T: 176, Avg. loss: 1092.459044\n",
      "Total training time: 0.00 seconds.\n",
      "-- Epoch 12\n",
      "Norm: 1.76, NNZs: 1, Bias: 0.310968, T: 192, Avg. loss: 1066.584388\n",
      "Total training time: 0.00 seconds.\n",
      "-- Epoch 13\n",
      "Norm: 1.86, NNZs: 1, Bias: 0.328567, T: 208, Avg. loss: 1041.887608\n",
      "Total training time: 0.00 seconds.\n",
      "-- Epoch 14\n",
      "Norm: 1.95, NNZs: 1, Bias: 0.345645, T: 224, Avg. loss: 1018.243291\n",
      "Total training time: 0.00 seconds.\n",
      "-- Epoch 15\n",
      "Norm: 2.05, NNZs: 1, Bias: 0.362211, T: 240, Avg. loss: 995.573963\n",
      "Total training time: 0.00 seconds.\n",
      "-- Epoch 16\n",
      "Norm: 2.14, NNZs: 1, Bias: 0.378330, T: 256, Avg. loss: 973.811358\n",
      "Total training time: 0.00 seconds.\n",
      "-- Epoch 17\n",
      "Norm: 2.23, NNZs: 1, Bias: 0.394022, T: 272, Avg. loss: 952.857425\n",
      "Total training time: 0.00 seconds.\n",
      "-- Epoch 18\n",
      "Norm: 2.31, NNZs: 1, Bias: 0.409322, T: 288, Avg. loss: 932.654154\n",
      "Total training time: 0.00 seconds.\n",
      "-- Epoch 19\n",
      "Norm: 2.40, NNZs: 1, Bias: 0.424247, T: 304, Avg. loss: 913.175237\n",
      "Total training time: 0.00 seconds.\n",
      "-- Epoch 20\n",
      "Norm: 2.48, NNZs: 1, Bias: 0.438821, T: 320, Avg. loss: 894.357568\n",
      "Total training time: 0.00 seconds.\n",
      "-- Epoch 21\n",
      "Norm: 2.56, NNZs: 1, Bias: 0.453066, T: 336, Avg. loss: 876.164290\n",
      "Total training time: 0.00 seconds.\n",
      "-- Epoch 22\n",
      "Norm: 2.64, NNZs: 1, Bias: 0.466990, T: 352, Avg. loss: 858.567913\n",
      "Total training time: 0.00 seconds.\n",
      "-- Epoch 23\n",
      "Norm: 2.72, NNZs: 1, Bias: 0.480624, T: 368, Avg. loss: 841.529916\n",
      "Total training time: 0.00 seconds.\n",
      "-- Epoch 24\n",
      "Norm: 2.79, NNZs: 1, Bias: 0.493966, T: 384, Avg. loss: 825.020346\n",
      "Total training time: 0.00 seconds.\n",
      "-- Epoch 25\n",
      "Norm: 2.87, NNZs: 1, Bias: 0.507042, T: 400, Avg. loss: 809.019748\n",
      "Total training time: 0.00 seconds.\n",
      "-- Epoch 26\n",
      "Norm: 2.94, NNZs: 1, Bias: 0.519857, T: 416, Avg. loss: 793.486850\n",
      "Total training time: 0.00 seconds.\n",
      "-- Epoch 27\n",
      "Norm: 3.01, NNZs: 1, Bias: 0.532429, T: 432, Avg. loss: 778.402222\n",
      "Total training time: 0.00 seconds.\n",
      "-- Epoch 28\n",
      "Norm: 3.08, NNZs: 1, Bias: 0.544764, T: 448, Avg. loss: 763.752506\n",
      "Total training time: 0.00 seconds.\n",
      "-- Epoch 29\n",
      "Norm: 3.15, NNZs: 1, Bias: 0.556871, T: 464, Avg. loss: 749.511684\n",
      "Total training time: 0.00 seconds.\n",
      "-- Epoch 30\n",
      "Norm: 3.22, NNZs: 1, Bias: 0.568760, T: 480, Avg. loss: 735.659032\n",
      "Total training time: 0.00 seconds.\n",
      "-- Epoch 31\n",
      "Norm: 3.28, NNZs: 1, Bias: 0.580436, T: 496, Avg. loss: 722.185610\n",
      "Total training time: 0.00 seconds.\n",
      "-- Epoch 32\n",
      "Norm: 3.35, NNZs: 1, Bias: 0.591913, T: 512, Avg. loss: 709.071137\n",
      "Total training time: 0.00 seconds.\n",
      "-- Epoch 33\n",
      "Norm: 3.41, NNZs: 1, Bias: 0.603191, T: 528, Avg. loss: 696.303324\n",
      "Total training time: 0.00 seconds.\n",
      "-- Epoch 34\n",
      "Norm: 3.47, NNZs: 1, Bias: 0.614283, T: 544, Avg. loss: 683.870699\n",
      "Total training time: 0.00 seconds.\n",
      "-- Epoch 35\n",
      "Norm: 3.54, NNZs: 1, Bias: 0.625191, T: 560, Avg. loss: 671.752963\n",
      "Total training time: 0.00 seconds.\n",
      "-- Epoch 36\n",
      "Norm: 3.60, NNZs: 1, Bias: 0.635924, T: 576, Avg. loss: 659.936678\n",
      "Total training time: 0.00 seconds.\n",
      "-- Epoch 37\n",
      "Norm: 3.66, NNZs: 1, Bias: 0.646486, T: 592, Avg. loss: 648.417363\n",
      "Total training time: 0.00 seconds.\n",
      "-- Epoch 38\n",
      "Norm: 3.72, NNZs: 1, Bias: 0.656884, T: 608, Avg. loss: 637.178984\n",
      "Total training time: 0.00 seconds.\n",
      "-- Epoch 39\n",
      "Norm: 3.77, NNZs: 1, Bias: 0.667120, T: 624, Avg. loss: 626.212187\n",
      "Total training time: 0.00 seconds.\n",
      "-- Epoch 40\n",
      "Norm: 3.83, NNZs: 1, Bias: 0.677200, T: 640, Avg. loss: 615.510275\n",
      "Total training time: 0.00 seconds.\n",
      "-- Epoch 41\n",
      "Norm: 3.89, NNZs: 1, Bias: 0.687130, T: 656, Avg. loss: 605.062417\n",
      "Total training time: 0.00 seconds.\n",
      "-- Epoch 42\n",
      "Norm: 3.94, NNZs: 1, Bias: 0.696912, T: 672, Avg. loss: 594.859479\n",
      "Total training time: 0.00 seconds.\n",
      "-- Epoch 43\n",
      "Norm: 4.00, NNZs: 1, Bias: 0.706553, T: 688, Avg. loss: 584.896239\n",
      "Total training time: 0.00 seconds.\n",
      "-- Epoch 44\n",
      "Norm: 4.05, NNZs: 1, Bias: 0.716052, T: 704, Avg. loss: 575.159553\n",
      "Total training time: 0.00 seconds.\n",
      "-- Epoch 45\n",
      "Norm: 4.10, NNZs: 1, Bias: 0.725419, T: 720, Avg. loss: 565.642894\n",
      "Total training time: 0.00 seconds.\n",
      "-- Epoch 46\n",
      "Norm: 4.16, NNZs: 1, Bias: 0.734654, T: 736, Avg. loss: 556.342016\n",
      "Total training time: 0.00 seconds.\n",
      "-- Epoch 47\n",
      "Norm: 4.21, NNZs: 1, Bias: 0.743760, T: 752, Avg. loss: 547.247901\n",
      "Total training time: 0.00 seconds.\n",
      "-- Epoch 48\n",
      "Norm: 4.26, NNZs: 1, Bias: 0.752741, T: 768, Avg. loss: 538.352832\n",
      "Total training time: 0.00 seconds.\n",
      "-- Epoch 49\n",
      "Norm: 4.31, NNZs: 1, Bias: 0.761599, T: 784, Avg. loss: 529.653958\n",
      "Total training time: 0.00 seconds.\n",
      "-- Epoch 50\n",
      "Norm: 4.36, NNZs: 1, Bias: 0.770340, T: 800, Avg. loss: 521.143607\n",
      "Total training time: 0.00 seconds.\n",
      "-- Epoch 51\n",
      "Norm: 4.41, NNZs: 1, Bias: 0.778963, T: 816, Avg. loss: 512.816872\n",
      "Total training time: 0.00 seconds.\n",
      "-- Epoch 52\n",
      "Norm: 4.46, NNZs: 1, Bias: 0.787475, T: 832, Avg. loss: 504.669598\n",
      "Total training time: 0.00 seconds.\n",
      "-- Epoch 53\n",
      "Norm: 4.50, NNZs: 1, Bias: 0.795873, T: 848, Avg. loss: 496.693895\n",
      "Total training time: 0.00 seconds.\n",
      "-- Epoch 54\n",
      "Norm: 4.55, NNZs: 1, Bias: 0.804165, T: 864, Avg. loss: 488.883871\n",
      "Total training time: 0.00 seconds.\n",
      "-- Epoch 55\n",
      "Norm: 4.60, NNZs: 1, Bias: 0.812350, T: 880, Avg. loss: 481.237840\n",
      "Total training time: 0.00 seconds.\n",
      "-- Epoch 56\n",
      "Norm: 4.64, NNZs: 1, Bias: 0.820433, T: 896, Avg. loss: 473.748962\n",
      "Total training time: 0.00 seconds.\n",
      "-- Epoch 57\n",
      "Norm: 4.69, NNZs: 1, Bias: 0.828413, T: 912, Avg. loss: 466.413154\n",
      "Total training time: 0.00 seconds.\n",
      "-- Epoch 58\n",
      "Norm: 4.73, NNZs: 1, Bias: 0.836294, T: 928, Avg. loss: 459.227616\n",
      "Total training time: 0.00 seconds.\n",
      "-- Epoch 59\n",
      "Norm: 4.78, NNZs: 1, Bias: 0.844079, T: 944, Avg. loss: 452.187598\n",
      "Total training time: 0.00 seconds.\n",
      "-- Epoch 60\n",
      "Norm: 4.82, NNZs: 1, Bias: 0.851768, T: 960, Avg. loss: 445.288697\n",
      "Total training time: 0.00 seconds.\n",
      "-- Epoch 61\n",
      "Norm: 4.86, NNZs: 1, Bias: 0.859365, T: 976, Avg. loss: 438.528757\n",
      "Total training time: 0.00 seconds.\n",
      "-- Epoch 62\n",
      "Norm: 4.91, NNZs: 1, Bias: 0.866869, T: 992, Avg. loss: 431.901858\n",
      "Total training time: 0.00 seconds.\n",
      "-- Epoch 63\n",
      "Norm: 4.95, NNZs: 1, Bias: 0.874285, T: 1008, Avg. loss: 425.404798\n",
      "Total training time: 0.00 seconds.\n",
      "-- Epoch 64\n",
      "Norm: 4.99, NNZs: 1, Bias: 0.881614, T: 1024, Avg. loss: 419.035540\n",
      "Total training time: 0.00 seconds.\n",
      "-- Epoch 65\n",
      "Norm: 5.03, NNZs: 1, Bias: 0.888857, T: 1040, Avg. loss: 412.789823\n",
      "Total training time: 0.00 seconds.\n",
      "-- Epoch 66\n",
      "Norm: 5.07, NNZs: 1, Bias: 0.896014, T: 1056, Avg. loss: 406.663746\n",
      "Total training time: 0.00 seconds.\n",
      "-- Epoch 67\n",
      "Norm: 5.11, NNZs: 1, Bias: 0.903089, T: 1072, Avg. loss: 400.656024\n",
      "Total training time: 0.00 seconds.\n",
      "-- Epoch 68\n",
      "Norm: 5.15, NNZs: 1, Bias: 0.910084, T: 1088, Avg. loss: 394.762845\n",
      "Total training time: 0.00 seconds.\n",
      "-- Epoch 69\n",
      "Norm: 5.19, NNZs: 1, Bias: 0.916999, T: 1104, Avg. loss: 388.981565\n",
      "Total training time: 0.00 seconds.\n",
      "-- Epoch 70\n",
      "Norm: 5.23, NNZs: 1, Bias: 0.923836, T: 1120, Avg. loss: 383.310247\n",
      "Total training time: 0.00 seconds.\n",
      "-- Epoch 71\n",
      "Norm: 5.27, NNZs: 1, Bias: 0.930595, T: 1136, Avg. loss: 377.745062\n",
      "Total training time: 0.00 seconds.\n",
      "-- Epoch 72\n",
      "Norm: 5.31, NNZs: 1, Bias: 0.937280, T: 1152, Avg. loss: 372.282764\n",
      "Total training time: 0.01 seconds.\n",
      "-- Epoch 73\n",
      "Norm: 5.35, NNZs: 1, Bias: 0.943890, T: 1168, Avg. loss: 366.922483\n",
      "Total training time: 0.01 seconds.\n",
      "-- Epoch 74\n",
      "Norm: 5.38, NNZs: 1, Bias: 0.950428, T: 1184, Avg. loss: 361.660647\n",
      "Total training time: 0.01 seconds.\n",
      "-- Epoch 75\n",
      "Norm: 5.42, NNZs: 1, Bias: 0.956894, T: 1200, Avg. loss: 356.495045\n",
      "Total training time: 0.01 seconds.\n",
      "-- Epoch 76\n",
      "Norm: 5.46, NNZs: 1, Bias: 0.963291, T: 1216, Avg. loss: 351.424237\n",
      "Total training time: 0.01 seconds.\n",
      "-- Epoch 77\n",
      "Norm: 5.49, NNZs: 1, Bias: 0.969618, T: 1232, Avg. loss: 346.445704\n",
      "Total training time: 0.01 seconds.\n",
      "-- Epoch 78\n",
      "Norm: 5.53, NNZs: 1, Bias: 0.975877, T: 1248, Avg. loss: 341.556878\n",
      "Total training time: 0.01 seconds.\n",
      "-- Epoch 79\n",
      "Norm: 5.56, NNZs: 1, Bias: 0.982071, T: 1264, Avg. loss: 336.756700\n",
      "Total training time: 0.01 seconds.\n",
      "-- Epoch 80\n",
      "Norm: 5.60, NNZs: 1, Bias: 0.988197, T: 1280, Avg. loss: 332.042060\n",
      "Total training time: 0.01 seconds.\n",
      "-- Epoch 81\n",
      "Norm: 5.63, NNZs: 1, Bias: 0.994259, T: 1296, Avg. loss: 327.411106\n",
      "Total training time: 0.01 seconds.\n",
      "-- Epoch 82\n",
      "Norm: 5.67, NNZs: 1, Bias: 1.000259, T: 1312, Avg. loss: 322.862656\n",
      "Total training time: 0.01 seconds.\n",
      "-- Epoch 83\n",
      "Norm: 5.70, NNZs: 1, Bias: 1.006195, T: 1328, Avg. loss: 318.394382\n",
      "Total training time: 0.01 seconds.\n",
      "-- Epoch 84\n",
      "Norm: 5.73, NNZs: 1, Bias: 1.012070, T: 1344, Avg. loss: 314.004001\n",
      "Total training time: 0.01 seconds.\n",
      "-- Epoch 85\n",
      "Norm: 5.77, NNZs: 1, Bias: 1.017884, T: 1360, Avg. loss: 309.690843\n",
      "Total training time: 0.01 seconds.\n",
      "-- Epoch 86\n",
      "Norm: 5.80, NNZs: 1, Bias: 1.023639, T: 1376, Avg. loss: 305.452730\n",
      "Total training time: 0.01 seconds.\n",
      "-- Epoch 87\n",
      "Norm: 5.83, NNZs: 1, Bias: 1.029336, T: 1392, Avg. loss: 301.288020\n",
      "Total training time: 0.01 seconds.\n",
      "-- Epoch 88\n",
      "Norm: 5.86, NNZs: 1, Bias: 1.034976, T: 1408, Avg. loss: 297.195701\n",
      "Total training time: 0.01 seconds.\n",
      "-- Epoch 89\n",
      "Norm: 5.89, NNZs: 1, Bias: 1.040556, T: 1424, Avg. loss: 293.173694\n",
      "Total training time: 0.01 seconds.\n",
      "-- Epoch 90\n",
      "Norm: 5.93, NNZs: 1, Bias: 1.046082, T: 1440, Avg. loss: 289.219989\n",
      "Total training time: 0.01 seconds.\n",
      "-- Epoch 91\n",
      "Norm: 5.96, NNZs: 1, Bias: 1.051553, T: 1456, Avg. loss: 285.334058\n",
      "Total training time: 0.01 seconds.\n",
      "-- Epoch 92\n",
      "Norm: 5.99, NNZs: 1, Bias: 1.056970, T: 1472, Avg. loss: 281.513821\n",
      "Total training time: 0.01 seconds.\n",
      "-- Epoch 93\n",
      "Norm: 6.02, NNZs: 1, Bias: 1.062332, T: 1488, Avg. loss: 277.757936\n",
      "Total training time: 0.01 seconds.\n",
      "-- Epoch 94\n",
      "Norm: 6.05, NNZs: 1, Bias: 1.067642, T: 1504, Avg. loss: 274.065583\n",
      "Total training time: 0.01 seconds.\n",
      "-- Epoch 95\n",
      "Norm: 6.08, NNZs: 1, Bias: 1.072900, T: 1520, Avg. loss: 270.435272\n",
      "Total training time: 0.01 seconds.\n",
      "-- Epoch 96\n",
      "Norm: 6.11, NNZs: 1, Bias: 1.078107, T: 1536, Avg. loss: 266.865346\n",
      "Total training time: 0.01 seconds.\n",
      "-- Epoch 97\n",
      "Norm: 6.14, NNZs: 1, Bias: 1.083264, T: 1552, Avg. loss: 263.355237\n",
      "Total training time: 0.01 seconds.\n",
      "-- Epoch 98\n",
      "Norm: 6.17, NNZs: 1, Bias: 1.088370, T: 1568, Avg. loss: 259.903167\n",
      "Total training time: 0.01 seconds.\n",
      "-- Epoch 99\n",
      "Norm: 6.20, NNZs: 1, Bias: 1.093428, T: 1584, Avg. loss: 256.507961\n",
      "Total training time: 0.01 seconds.\n",
      "-- Epoch 100\n",
      "Norm: 6.22, NNZs: 1, Bias: 1.098437, T: 1600, Avg. loss: 253.168857\n",
      "Total training time: 0.01 seconds.\n",
      "-- Epoch 101\n",
      "Norm: 6.25, NNZs: 1, Bias: 1.103399, T: 1616, Avg. loss: 249.884471\n",
      "Total training time: 0.01 seconds.\n",
      "-- Epoch 102\n",
      "Norm: 6.28, NNZs: 1, Bias: 1.108312, T: 1632, Avg. loss: 246.653347\n",
      "Total training time: 0.01 seconds.\n",
      "-- Epoch 103\n",
      "Norm: 6.31, NNZs: 1, Bias: 1.113180, T: 1648, Avg. loss: 243.475108\n",
      "Total training time: 0.01 seconds.\n",
      "-- Epoch 104\n",
      "Norm: 6.34, NNZs: 1, Bias: 1.118003, T: 1664, Avg. loss: 240.348402\n",
      "Total training time: 0.01 seconds.\n",
      "-- Epoch 105\n",
      "Norm: 6.36, NNZs: 1, Bias: 1.122780, T: 1680, Avg. loss: 237.272121\n",
      "Total training time: 0.01 seconds.\n",
      "-- Epoch 106\n",
      "Norm: 6.39, NNZs: 1, Bias: 1.127514, T: 1696, Avg. loss: 234.245705\n",
      "Total training time: 0.01 seconds.\n",
      "-- Epoch 107\n",
      "Norm: 6.42, NNZs: 1, Bias: 1.132201, T: 1712, Avg. loss: 231.267949\n",
      "Total training time: 0.01 seconds.\n",
      "-- Epoch 108\n",
      "Norm: 6.44, NNZs: 1, Bias: 1.136847, T: 1728, Avg. loss: 228.337519\n",
      "Total training time: 0.01 seconds.\n",
      "-- Epoch 109\n",
      "Norm: 6.47, NNZs: 1, Bias: 1.141449, T: 1744, Avg. loss: 225.454062\n",
      "Total training time: 0.01 seconds.\n",
      "-- Epoch 110\n",
      "Norm: 6.50, NNZs: 1, Bias: 1.146010, T: 1760, Avg. loss: 222.616281\n",
      "Total training time: 0.01 seconds.\n",
      "-- Epoch 111\n",
      "Norm: 6.52, NNZs: 1, Bias: 1.150528, T: 1776, Avg. loss: 219.823300\n",
      "Total training time: 0.01 seconds.\n",
      "-- Epoch 112\n",
      "Norm: 6.55, NNZs: 1, Bias: 1.155005, T: 1792, Avg. loss: 217.074625\n",
      "Total training time: 0.01 seconds.\n",
      "-- Epoch 113\n",
      "Norm: 6.57, NNZs: 1, Bias: 1.159442, T: 1808, Avg. loss: 214.369312\n",
      "Total training time: 0.01 seconds.\n",
      "-- Epoch 114\n",
      "Norm: 6.60, NNZs: 1, Bias: 1.163839, T: 1824, Avg. loss: 211.706218\n",
      "Total training time: 0.01 seconds.\n",
      "-- Epoch 115\n",
      "Norm: 6.62, NNZs: 1, Bias: 1.168197, T: 1840, Avg. loss: 209.085029\n",
      "Total training time: 0.01 seconds.\n",
      "-- Epoch 116\n",
      "Norm: 6.65, NNZs: 1, Bias: 1.172515, T: 1856, Avg. loss: 206.504672\n",
      "Total training time: 0.01 seconds.\n",
      "-- Epoch 117\n",
      "Norm: 6.67, NNZs: 1, Bias: 1.176794, T: 1872, Avg. loss: 203.964358\n",
      "Total training time: 0.01 seconds.\n",
      "-- Epoch 118\n",
      "Norm: 6.69, NNZs: 1, Bias: 1.181036, T: 1888, Avg. loss: 201.463562\n",
      "Total training time: 0.01 seconds.\n",
      "-- Epoch 119\n",
      "Norm: 6.72, NNZs: 1, Bias: 1.185240, T: 1904, Avg. loss: 199.001414\n",
      "Total training time: 0.01 seconds.\n",
      "-- Epoch 120\n",
      "Norm: 6.74, NNZs: 1, Bias: 1.189406, T: 1920, Avg. loss: 196.576929\n",
      "Total training time: 0.01 seconds.\n",
      "-- Epoch 121\n",
      "Norm: 6.77, NNZs: 1, Bias: 1.193536, T: 1936, Avg. loss: 194.189891\n",
      "Total training time: 0.01 seconds.\n",
      "-- Epoch 122\n",
      "Norm: 6.79, NNZs: 1, Bias: 1.197630, T: 1952, Avg. loss: 191.839409\n",
      "Total training time: 0.01 seconds.\n",
      "-- Epoch 123\n",
      "Norm: 6.81, NNZs: 1, Bias: 1.201688, T: 1968, Avg. loss: 189.524694\n",
      "Total training time: 0.01 seconds.\n",
      "-- Epoch 124\n",
      "Norm: 6.84, NNZs: 1, Bias: 1.205712, T: 1984, Avg. loss: 187.245429\n",
      "Total training time: 0.01 seconds.\n",
      "-- Epoch 125\n",
      "Norm: 6.86, NNZs: 1, Bias: 1.209699, T: 2000, Avg. loss: 185.000890\n",
      "Total training time: 0.01 seconds.\n",
      "-- Epoch 126\n",
      "Norm: 6.88, NNZs: 1, Bias: 1.213652, T: 2016, Avg. loss: 182.790147\n",
      "Total training time: 0.01 seconds.\n",
      "-- Epoch 127\n",
      "Norm: 6.90, NNZs: 1, Bias: 1.217571, T: 2032, Avg. loss: 180.612947\n",
      "Total training time: 0.01 seconds.\n",
      "-- Epoch 128\n",
      "Norm: 6.93, NNZs: 1, Bias: 1.221456, T: 2048, Avg. loss: 178.468446\n",
      "Total training time: 0.01 seconds.\n",
      "-- Epoch 129\n",
      "Norm: 6.95, NNZs: 1, Bias: 1.225307, T: 2064, Avg. loss: 176.356041\n",
      "Total training time: 0.01 seconds.\n",
      "-- Epoch 130\n",
      "Norm: 6.97, NNZs: 1, Bias: 1.229127, T: 2080, Avg. loss: 174.275426\n",
      "Total training time: 0.01 seconds.\n",
      "-- Epoch 131\n",
      "Norm: 6.99, NNZs: 1, Bias: 1.232913, T: 2096, Avg. loss: 172.225970\n",
      "Total training time: 0.01 seconds.\n",
      "-- Epoch 132\n",
      "Norm: 7.01, NNZs: 1, Bias: 1.236668, T: 2112, Avg. loss: 170.206851\n",
      "Total training time: 0.01 seconds.\n",
      "-- Epoch 133\n",
      "Norm: 7.03, NNZs: 1, Bias: 1.240391, T: 2128, Avg. loss: 168.217893\n",
      "Total training time: 0.01 seconds.\n",
      "-- Epoch 134\n",
      "Norm: 7.05, NNZs: 1, Bias: 1.244081, T: 2144, Avg. loss: 166.258430\n",
      "Total training time: 0.01 seconds.\n",
      "-- Epoch 135\n",
      "Norm: 7.08, NNZs: 1, Bias: 1.247741, T: 2160, Avg. loss: 164.327908\n",
      "Total training time: 0.01 seconds.\n",
      "-- Epoch 136\n",
      "Norm: 7.10, NNZs: 1, Bias: 1.251371, T: 2176, Avg. loss: 162.425947\n",
      "Total training time: 0.01 seconds.\n",
      "-- Epoch 137\n",
      "Norm: 7.12, NNZs: 1, Bias: 1.254970, T: 2192, Avg. loss: 160.551982\n",
      "Total training time: 0.01 seconds.\n",
      "-- Epoch 138\n",
      "Norm: 7.14, NNZs: 1, Bias: 1.258538, T: 2208, Avg. loss: 158.705313\n",
      "Total training time: 0.01 seconds.\n",
      "-- Epoch 139\n",
      "Norm: 7.16, NNZs: 1, Bias: 1.262078, T: 2224, Avg. loss: 156.885823\n",
      "Total training time: 0.01 seconds.\n",
      "-- Epoch 140\n",
      "Norm: 7.18, NNZs: 1, Bias: 1.265587, T: 2240, Avg. loss: 155.092896\n",
      "Total training time: 0.01 seconds.\n",
      "-- Epoch 141\n",
      "Norm: 7.20, NNZs: 1, Bias: 1.269069, T: 2256, Avg. loss: 153.325948\n",
      "Total training time: 0.01 seconds.\n",
      "-- Epoch 142\n",
      "Norm: 7.22, NNZs: 1, Bias: 1.272522, T: 2272, Avg. loss: 151.584802\n",
      "Total training time: 0.01 seconds.\n",
      "-- Epoch 143\n",
      "Norm: 7.24, NNZs: 1, Bias: 1.275945, T: 2288, Avg. loss: 149.869015\n",
      "Total training time: 0.01 seconds.\n",
      "-- Epoch 144\n",
      "Norm: 7.26, NNZs: 1, Bias: 1.279341, T: 2304, Avg. loss: 148.177912\n",
      "Total training time: 0.01 seconds.\n",
      "-- Epoch 145\n",
      "Norm: 7.27, NNZs: 1, Bias: 1.282708, T: 2320, Avg. loss: 146.511308\n",
      "Total training time: 0.01 seconds.\n",
      "-- Epoch 146\n",
      "Norm: 7.29, NNZs: 1, Bias: 1.286049, T: 2336, Avg. loss: 144.868633\n",
      "Total training time: 0.01 seconds.\n",
      "-- Epoch 147\n",
      "Norm: 7.31, NNZs: 1, Bias: 1.289362, T: 2352, Avg. loss: 143.249455\n",
      "Total training time: 0.01 seconds.\n",
      "-- Epoch 148\n",
      "Norm: 7.33, NNZs: 1, Bias: 1.292649, T: 2368, Avg. loss: 141.653584\n",
      "Total training time: 0.01 seconds.\n",
      "-- Epoch 149\n",
      "Norm: 7.35, NNZs: 1, Bias: 1.295908, T: 2384, Avg. loss: 140.080581\n",
      "Total training time: 0.01 seconds.\n",
      "-- Epoch 150\n",
      "Norm: 7.37, NNZs: 1, Bias: 1.299142, T: 2400, Avg. loss: 138.529836\n",
      "Total training time: 0.01 seconds.\n",
      "-- Epoch 151\n",
      "Norm: 7.39, NNZs: 1, Bias: 1.302350, T: 2416, Avg. loss: 137.001252\n",
      "Total training time: 0.01 seconds.\n",
      "-- Epoch 152\n",
      "Norm: 7.41, NNZs: 1, Bias: 1.305532, T: 2432, Avg. loss: 135.494408\n",
      "Total training time: 0.01 seconds.\n",
      "-- Epoch 153\n",
      "Norm: 7.42, NNZs: 1, Bias: 1.308688, T: 2448, Avg. loss: 134.008904\n",
      "Total training time: 0.01 seconds.\n",
      "-- Epoch 154\n",
      "Norm: 7.44, NNZs: 1, Bias: 1.311819, T: 2464, Avg. loss: 132.544454\n",
      "Total training time: 0.01 seconds.\n",
      "-- Epoch 155\n",
      "Norm: 7.46, NNZs: 1, Bias: 1.314926, T: 2480, Avg. loss: 131.100682\n",
      "Total training time: 0.01 seconds.\n",
      "-- Epoch 156\n",
      "Norm: 7.48, NNZs: 1, Bias: 1.318006, T: 2496, Avg. loss: 129.677076\n",
      "Total training time: 0.01 seconds.\n",
      "-- Epoch 157\n",
      "Norm: 7.49, NNZs: 1, Bias: 1.321064, T: 2512, Avg. loss: 128.273575\n",
      "Total training time: 0.01 seconds.\n",
      "-- Epoch 158\n",
      "Norm: 7.51, NNZs: 1, Bias: 1.324097, T: 2528, Avg. loss: 126.889738\n",
      "Total training time: 0.01 seconds.\n",
      "-- Epoch 159\n",
      "Norm: 7.53, NNZs: 1, Bias: 1.327106, T: 2544, Avg. loss: 125.525124\n",
      "Total training time: 0.01 seconds.\n",
      "-- Epoch 160\n",
      "Norm: 7.55, NNZs: 1, Bias: 1.330092, T: 2560, Avg. loss: 124.179638\n",
      "Total training time: 0.01 seconds.\n",
      "-- Epoch 161\n",
      "Norm: 7.56, NNZs: 1, Bias: 1.333053, T: 2576, Avg. loss: 122.853004\n",
      "Total training time: 0.01 seconds.\n",
      "-- Epoch 162\n",
      "Norm: 7.58, NNZs: 1, Bias: 1.335992, T: 2592, Avg. loss: 121.544725\n",
      "Total training time: 0.01 seconds.\n",
      "-- Epoch 163\n",
      "Norm: 7.60, NNZs: 1, Bias: 1.338908, T: 2608, Avg. loss: 120.254655\n",
      "Total training time: 0.01 seconds.\n",
      "-- Epoch 164\n",
      "Norm: 7.61, NNZs: 1, Bias: 1.341801, T: 2624, Avg. loss: 118.982402\n",
      "Total training time: 0.01 seconds.\n",
      "-- Epoch 165\n",
      "Norm: 7.63, NNZs: 1, Bias: 1.344671, T: 2640, Avg. loss: 117.727647\n",
      "Total training time: 0.01 seconds.\n",
      "-- Epoch 166\n",
      "Norm: 7.65, NNZs: 1, Bias: 1.347520, T: 2656, Avg. loss: 116.490274\n",
      "Total training time: 0.01 seconds.\n",
      "-- Epoch 167\n",
      "Norm: 7.66, NNZs: 1, Bias: 1.350346, T: 2672, Avg. loss: 115.269967\n",
      "Total training time: 0.01 seconds.\n",
      "-- Epoch 168\n",
      "Norm: 7.68, NNZs: 1, Bias: 1.353151, T: 2688, Avg. loss: 114.066261\n",
      "Total training time: 0.01 seconds.\n",
      "-- Epoch 169\n",
      "Norm: 7.69, NNZs: 1, Bias: 1.355934, T: 2704, Avg. loss: 112.879107\n",
      "Total training time: 0.01 seconds.\n",
      "-- Epoch 170\n",
      "Norm: 7.71, NNZs: 1, Bias: 1.358695, T: 2720, Avg. loss: 111.708237\n",
      "Total training time: 0.01 seconds.\n",
      "-- Epoch 171\n",
      "Norm: 7.73, NNZs: 1, Bias: 1.361436, T: 2736, Avg. loss: 110.553356\n",
      "Total training time: 0.01 seconds.\n",
      "-- Epoch 172\n",
      "Norm: 7.74, NNZs: 1, Bias: 1.364155, T: 2752, Avg. loss: 109.414242\n",
      "Total training time: 0.01 seconds.\n",
      "-- Epoch 173\n",
      "Norm: 7.76, NNZs: 1, Bias: 1.366854, T: 2768, Avg. loss: 108.290641\n",
      "Total training time: 0.01 seconds.\n",
      "-- Epoch 174\n",
      "Norm: 7.77, NNZs: 1, Bias: 1.369532, T: 2784, Avg. loss: 107.182166\n",
      "Total training time: 0.01 seconds.\n",
      "-- Epoch 175\n",
      "Norm: 7.79, NNZs: 1, Bias: 1.372189, T: 2800, Avg. loss: 106.088795\n",
      "Total training time: 0.01 seconds.\n",
      "-- Epoch 176\n",
      "Norm: 7.80, NNZs: 1, Bias: 1.374827, T: 2816, Avg. loss: 105.010202\n",
      "Total training time: 0.01 seconds.\n",
      "-- Epoch 177\n",
      "Norm: 7.82, NNZs: 1, Bias: 1.377445, T: 2832, Avg. loss: 103.946044\n",
      "Total training time: 0.01 seconds.\n",
      "-- Epoch 178\n",
      "Norm: 7.83, NNZs: 1, Bias: 1.380043, T: 2848, Avg. loss: 102.896277\n",
      "Total training time: 0.01 seconds.\n",
      "-- Epoch 179\n",
      "Norm: 7.85, NNZs: 1, Bias: 1.382621, T: 2864, Avg. loss: 101.860732\n",
      "Total training time: 0.01 seconds.\n",
      "-- Epoch 180\n",
      "Norm: 7.86, NNZs: 1, Bias: 1.385180, T: 2880, Avg. loss: 100.839032\n",
      "Total training time: 0.01 seconds.\n",
      "-- Epoch 181\n",
      "Norm: 7.88, NNZs: 1, Bias: 1.387720, T: 2896, Avg. loss: 99.831061\n",
      "Total training time: 0.01 seconds.\n",
      "-- Epoch 182\n",
      "Norm: 7.89, NNZs: 1, Bias: 1.390241, T: 2912, Avg. loss: 98.836544\n",
      "Total training time: 0.01 seconds.\n",
      "-- Epoch 183\n",
      "Norm: 7.90, NNZs: 1, Bias: 1.392742, T: 2928, Avg. loss: 97.855241\n",
      "Total training time: 0.01 seconds.\n",
      "-- Epoch 184\n",
      "Norm: 7.92, NNZs: 1, Bias: 1.395225, T: 2944, Avg. loss: 96.887080\n",
      "Total training time: 0.01 seconds.\n",
      "-- Epoch 185\n",
      "Norm: 7.93, NNZs: 1, Bias: 1.397690, T: 2960, Avg. loss: 95.931832\n",
      "Total training time: 0.01 seconds.\n",
      "-- Epoch 186\n",
      "Norm: 7.95, NNZs: 1, Bias: 1.400137, T: 2976, Avg. loss: 94.989131\n",
      "Total training time: 0.01 seconds.\n",
      "-- Epoch 187\n",
      "Norm: 7.96, NNZs: 1, Bias: 1.402565, T: 2992, Avg. loss: 94.058962\n",
      "Total training time: 0.01 seconds.\n",
      "-- Epoch 188\n",
      "Norm: 7.97, NNZs: 1, Bias: 1.404975, T: 3008, Avg. loss: 93.141150\n",
      "Total training time: 0.01 seconds.\n",
      "-- Epoch 189\n",
      "Norm: 7.99, NNZs: 1, Bias: 1.407368, T: 3024, Avg. loss: 92.235477\n",
      "Total training time: 0.01 seconds.\n",
      "-- Epoch 190\n",
      "Norm: 8.00, NNZs: 1, Bias: 1.409743, T: 3040, Avg. loss: 91.341766\n",
      "Total training time: 0.01 seconds.\n",
      "-- Epoch 191\n",
      "Norm: 8.02, NNZs: 1, Bias: 1.412100, T: 3056, Avg. loss: 90.459843\n",
      "Total training time: 0.01 seconds.\n",
      "-- Epoch 192\n",
      "Norm: 8.03, NNZs: 1, Bias: 1.414440, T: 3072, Avg. loss: 89.589411\n",
      "Total training time: 0.01 seconds.\n",
      "-- Epoch 193\n",
      "Norm: 8.04, NNZs: 1, Bias: 1.416763, T: 3088, Avg. loss: 88.730469\n",
      "Total training time: 0.01 seconds.\n",
      "-- Epoch 194\n",
      "Norm: 8.06, NNZs: 1, Bias: 1.419069, T: 3104, Avg. loss: 87.882771\n",
      "Total training time: 0.01 seconds.\n",
      "-- Epoch 195\n",
      "Norm: 8.07, NNZs: 1, Bias: 1.421358, T: 3120, Avg. loss: 87.046047\n",
      "Total training time: 0.01 seconds.\n",
      "-- Epoch 196\n",
      "Norm: 8.08, NNZs: 1, Bias: 1.423631, T: 3136, Avg. loss: 86.220284\n",
      "Total training time: 0.01 seconds.\n",
      "-- Epoch 197\n",
      "Norm: 8.09, NNZs: 1, Bias: 1.425887, T: 3152, Avg. loss: 85.405379\n",
      "Total training time: 0.01 seconds.\n",
      "-- Epoch 198\n",
      "Norm: 8.11, NNZs: 1, Bias: 1.428126, T: 3168, Avg. loss: 84.601044\n",
      "Total training time: 0.01 seconds.\n",
      "-- Epoch 199\n",
      "Norm: 8.12, NNZs: 1, Bias: 1.430349, T: 3184, Avg. loss: 83.807184\n",
      "Total training time: 0.01 seconds.\n",
      "-- Epoch 200\n",
      "Norm: 8.13, NNZs: 1, Bias: 1.432557, T: 3200, Avg. loss: 83.023604\n",
      "Total training time: 0.01 seconds.\n",
      "-- Epoch 201\n",
      "Norm: 8.15, NNZs: 1, Bias: 1.434748, T: 3216, Avg. loss: 82.250116\n",
      "Total training time: 0.01 seconds.\n",
      "-- Epoch 202\n",
      "Norm: 8.16, NNZs: 1, Bias: 1.436923, T: 3232, Avg. loss: 81.486684\n",
      "Total training time: 0.01 seconds.\n",
      "-- Epoch 203\n",
      "Norm: 8.17, NNZs: 1, Bias: 1.439083, T: 3248, Avg. loss: 80.733131\n",
      "Total training time: 0.01 seconds.\n",
      "-- Epoch 204\n",
      "Norm: 8.18, NNZs: 1, Bias: 1.441228, T: 3264, Avg. loss: 79.989170\n",
      "Total training time: 0.01 seconds.\n",
      "-- Epoch 205\n",
      "Norm: 8.20, NNZs: 1, Bias: 1.443357, T: 3280, Avg. loss: 79.254802\n",
      "Total training time: 0.01 seconds.\n",
      "-- Epoch 206\n",
      "Norm: 8.21, NNZs: 1, Bias: 1.445471, T: 3296, Avg. loss: 78.529918\n",
      "Total training time: 0.01 seconds.\n",
      "-- Epoch 207\n",
      "Norm: 8.22, NNZs: 1, Bias: 1.447569, T: 3312, Avg. loss: 77.814353\n",
      "Total training time: 0.01 seconds.\n",
      "-- Epoch 208\n",
      "Norm: 8.23, NNZs: 1, Bias: 1.449653, T: 3328, Avg. loss: 77.107960\n",
      "Total training time: 0.01 seconds.\n",
      "-- Epoch 209\n",
      "Norm: 8.24, NNZs: 1, Bias: 1.451722, T: 3344, Avg. loss: 76.410624\n",
      "Total training time: 0.01 seconds.\n",
      "-- Epoch 210\n",
      "Norm: 8.26, NNZs: 1, Bias: 1.453776, T: 3360, Avg. loss: 75.722108\n",
      "Total training time: 0.01 seconds.\n",
      "-- Epoch 211\n",
      "Norm: 8.27, NNZs: 1, Bias: 1.455815, T: 3376, Avg. loss: 75.042428\n",
      "Total training time: 0.01 seconds.\n",
      "-- Epoch 212\n",
      "Norm: 8.28, NNZs: 1, Bias: 1.457840, T: 3392, Avg. loss: 74.371394\n",
      "Total training time: 0.01 seconds.\n",
      "-- Epoch 213\n",
      "Norm: 8.29, NNZs: 1, Bias: 1.459852, T: 3408, Avg. loss: 73.708788\n",
      "Total training time: 0.01 seconds.\n",
      "-- Epoch 214\n",
      "Norm: 8.30, NNZs: 1, Bias: 1.461849, T: 3424, Avg. loss: 73.054617\n",
      "Total training time: 0.01 seconds.\n",
      "-- Epoch 215\n",
      "Norm: 8.31, NNZs: 1, Bias: 1.463831, T: 3440, Avg. loss: 72.408823\n",
      "Total training time: 0.01 seconds.\n",
      "-- Epoch 216\n",
      "Norm: 8.32, NNZs: 1, Bias: 1.465799, T: 3456, Avg. loss: 71.771181\n",
      "Total training time: 0.01 seconds.\n",
      "-- Epoch 217\n",
      "Norm: 8.34, NNZs: 1, Bias: 1.467754, T: 3472, Avg. loss: 71.141611\n",
      "Total training time: 0.01 seconds.\n",
      "-- Epoch 218\n",
      "Norm: 8.35, NNZs: 1, Bias: 1.469695, T: 3488, Avg. loss: 70.519974\n",
      "Total training time: 0.01 seconds.\n",
      "-- Epoch 219\n",
      "Norm: 8.36, NNZs: 1, Bias: 1.471622, T: 3504, Avg. loss: 69.906121\n",
      "Total training time: 0.01 seconds.\n",
      "-- Epoch 220\n",
      "Norm: 8.37, NNZs: 1, Bias: 1.473536, T: 3520, Avg. loss: 69.300038\n",
      "Total training time: 0.01 seconds.\n",
      "-- Epoch 221\n",
      "Norm: 8.38, NNZs: 1, Bias: 1.475437, T: 3536, Avg. loss: 68.701588\n",
      "Total training time: 0.01 seconds.\n",
      "-- Epoch 222\n",
      "Norm: 8.39, NNZs: 1, Bias: 1.477325, T: 3552, Avg. loss: 68.110541\n",
      "Total training time: 0.01 seconds.\n",
      "-- Epoch 223\n",
      "Norm: 8.40, NNZs: 1, Bias: 1.479199, T: 3568, Avg. loss: 67.526908\n",
      "Total training time: 0.01 seconds.\n",
      "-- Epoch 224\n",
      "Norm: 8.41, NNZs: 1, Bias: 1.481060, T: 3584, Avg. loss: 66.950623\n",
      "Total training time: 0.01 seconds.\n",
      "-- Epoch 225\n",
      "Norm: 8.42, NNZs: 1, Bias: 1.482908, T: 3600, Avg. loss: 66.381559\n",
      "Total training time: 0.01 seconds.\n",
      "-- Epoch 226\n",
      "Norm: 8.43, NNZs: 1, Bias: 1.484744, T: 3616, Avg. loss: 65.819596\n",
      "Total training time: 0.01 seconds.\n",
      "-- Epoch 227\n",
      "Norm: 8.44, NNZs: 1, Bias: 1.486567, T: 3632, Avg. loss: 65.264654\n",
      "Total training time: 0.01 seconds.\n",
      "-- Epoch 228\n",
      "Norm: 8.45, NNZs: 1, Bias: 1.488377, T: 3648, Avg. loss: 64.716544\n",
      "Total training time: 0.01 seconds.\n",
      "-- Epoch 229\n",
      "Norm: 8.46, NNZs: 1, Bias: 1.490175, T: 3664, Avg. loss: 64.175293\n",
      "Total training time: 0.01 seconds.\n",
      "-- Epoch 230\n",
      "Norm: 8.47, NNZs: 1, Bias: 1.491960, T: 3680, Avg. loss: 63.640749\n",
      "Total training time: 0.01 seconds.\n",
      "-- Epoch 231\n",
      "Norm: 8.49, NNZs: 1, Bias: 1.493733, T: 3696, Avg. loss: 63.112736\n",
      "Total training time: 0.01 seconds.\n",
      "-- Epoch 232\n",
      "Norm: 8.50, NNZs: 1, Bias: 1.495495, T: 3712, Avg. loss: 62.591272\n",
      "Total training time: 0.01 seconds.\n",
      "-- Epoch 233\n",
      "Norm: 8.51, NNZs: 1, Bias: 1.497243, T: 3728, Avg. loss: 62.076327\n",
      "Total training time: 0.01 seconds.\n",
      "-- Epoch 234\n",
      "Norm: 8.52, NNZs: 1, Bias: 1.498980, T: 3744, Avg. loss: 61.567725\n",
      "Total training time: 0.01 seconds.\n",
      "-- Epoch 235\n",
      "Norm: 8.53, NNZs: 1, Bias: 1.500705, T: 3760, Avg. loss: 61.065398\n",
      "Total training time: 0.01 seconds.\n",
      "-- Epoch 236\n",
      "Norm: 8.54, NNZs: 1, Bias: 1.502419, T: 3776, Avg. loss: 60.569246\n",
      "Total training time: 0.01 seconds.\n",
      "-- Epoch 237\n",
      "Norm: 8.55, NNZs: 1, Bias: 1.504120, T: 3792, Avg. loss: 60.079149\n",
      "Total training time: 0.01 seconds.\n",
      "-- Epoch 238\n",
      "Norm: 8.55, NNZs: 1, Bias: 1.505810, T: 3808, Avg. loss: 59.595107\n",
      "Total training time: 0.01 seconds.\n",
      "-- Epoch 239\n",
      "Norm: 8.56, NNZs: 1, Bias: 1.507488, T: 3824, Avg. loss: 59.117012\n",
      "Total training time: 0.01 seconds.\n",
      "-- Epoch 240\n",
      "Norm: 8.57, NNZs: 1, Bias: 1.509156, T: 3840, Avg. loss: 58.644677\n",
      "Total training time: 0.01 seconds.\n",
      "-- Epoch 241\n",
      "Norm: 8.58, NNZs: 1, Bias: 1.510812, T: 3856, Avg. loss: 58.178120\n",
      "Total training time: 0.01 seconds.\n",
      "-- Epoch 242\n",
      "Norm: 8.59, NNZs: 1, Bias: 1.512456, T: 3872, Avg. loss: 57.717303\n",
      "Total training time: 0.01 seconds.\n",
      "-- Epoch 243\n",
      "Norm: 8.60, NNZs: 1, Bias: 1.514090, T: 3888, Avg. loss: 57.262129\n",
      "Total training time: 0.01 seconds.\n",
      "-- Epoch 244\n",
      "Norm: 8.61, NNZs: 1, Bias: 1.515712, T: 3904, Avg. loss: 56.812494\n",
      "Total training time: 0.01 seconds.\n",
      "-- Epoch 245\n",
      "Norm: 8.62, NNZs: 1, Bias: 1.517324, T: 3920, Avg. loss: 56.368349\n",
      "Total training time: 0.01 seconds.\n",
      "-- Epoch 246\n",
      "Norm: 8.63, NNZs: 1, Bias: 1.518924, T: 3936, Avg. loss: 55.929537\n",
      "Total training time: 0.01 seconds.\n",
      "-- Epoch 247\n",
      "Norm: 8.64, NNZs: 1, Bias: 1.520515, T: 3952, Avg. loss: 55.496091\n",
      "Total training time: 0.01 seconds.\n",
      "-- Epoch 248\n",
      "Norm: 8.65, NNZs: 1, Bias: 1.522094, T: 3968, Avg. loss: 55.067890\n",
      "Total training time: 0.01 seconds.\n",
      "-- Epoch 249\n",
      "Norm: 8.66, NNZs: 1, Bias: 1.523663, T: 3984, Avg. loss: 54.644788\n",
      "Total training time: 0.01 seconds.\n",
      "-- Epoch 250\n",
      "Norm: 8.67, NNZs: 1, Bias: 1.525222, T: 4000, Avg. loss: 54.226810\n",
      "Total training time: 0.01 seconds.\n",
      "-- Epoch 251\n",
      "Norm: 8.68, NNZs: 1, Bias: 1.526769, T: 4016, Avg. loss: 53.813947\n",
      "Total training time: 0.01 seconds.\n",
      "-- Epoch 252\n",
      "Norm: 8.68, NNZs: 1, Bias: 1.528307, T: 4032, Avg. loss: 53.406056\n",
      "Total training time: 0.01 seconds.\n",
      "-- Epoch 253\n",
      "Norm: 8.69, NNZs: 1, Bias: 1.529834, T: 4048, Avg. loss: 53.003079\n",
      "Total training time: 0.01 seconds.\n",
      "-- Epoch 254\n",
      "Norm: 8.70, NNZs: 1, Bias: 1.531351, T: 4064, Avg. loss: 52.604946\n",
      "Total training time: 0.01 seconds.\n",
      "-- Epoch 255\n",
      "Norm: 8.71, NNZs: 1, Bias: 1.532858, T: 4080, Avg. loss: 52.211557\n",
      "Total training time: 0.01 seconds.\n",
      "-- Epoch 256\n",
      "Norm: 8.72, NNZs: 1, Bias: 1.534355, T: 4096, Avg. loss: 51.822923\n",
      "Total training time: 0.01 seconds.\n",
      "-- Epoch 257\n",
      "Norm: 8.73, NNZs: 1, Bias: 1.535842, T: 4112, Avg. loss: 51.438956\n",
      "Total training time: 0.01 seconds.\n",
      "-- Epoch 258\n",
      "Norm: 8.74, NNZs: 1, Bias: 1.537319, T: 4128, Avg. loss: 51.059504\n",
      "Total training time: 0.01 seconds.\n",
      "-- Epoch 259\n",
      "Norm: 8.75, NNZs: 1, Bias: 1.538787, T: 4144, Avg. loss: 50.684587\n",
      "Total training time: 0.01 seconds.\n",
      "-- Epoch 260\n",
      "Norm: 8.75, NNZs: 1, Bias: 1.540245, T: 4160, Avg. loss: 50.314186\n",
      "Total training time: 0.01 seconds.\n",
      "-- Epoch 261\n",
      "Norm: 8.76, NNZs: 1, Bias: 1.541693, T: 4176, Avg. loss: 49.948227\n",
      "Total training time: 0.01 seconds.\n",
      "-- Epoch 262\n",
      "Norm: 8.77, NNZs: 1, Bias: 1.543131, T: 4192, Avg. loss: 49.586621\n",
      "Total training time: 0.01 seconds.\n",
      "-- Epoch 263\n",
      "Norm: 8.78, NNZs: 1, Bias: 1.544561, T: 4208, Avg. loss: 49.229336\n",
      "Total training time: 0.01 seconds.\n",
      "-- Epoch 264\n",
      "Norm: 8.79, NNZs: 1, Bias: 1.545980, T: 4224, Avg. loss: 48.876244\n",
      "Total training time: 0.01 seconds.\n",
      "-- Epoch 265\n",
      "Norm: 8.80, NNZs: 1, Bias: 1.547390, T: 4240, Avg. loss: 48.527380\n",
      "Total training time: 0.01 seconds.\n",
      "-- Epoch 266\n",
      "Norm: 8.80, NNZs: 1, Bias: 1.548792, T: 4256, Avg. loss: 48.182645\n",
      "Total training time: 0.01 seconds.\n",
      "-- Epoch 267\n",
      "Norm: 8.81, NNZs: 1, Bias: 1.550184, T: 4272, Avg. loss: 47.841919\n",
      "Total training time: 0.01 seconds.\n",
      "-- Epoch 268\n",
      "Norm: 8.82, NNZs: 1, Bias: 1.551567, T: 4288, Avg. loss: 47.505230\n",
      "Total training time: 0.01 seconds.\n",
      "-- Epoch 269\n",
      "Norm: 8.83, NNZs: 1, Bias: 1.552941, T: 4304, Avg. loss: 47.172579\n",
      "Total training time: 0.01 seconds.\n",
      "-- Epoch 270\n",
      "Norm: 8.84, NNZs: 1, Bias: 1.554306, T: 4320, Avg. loss: 46.843854\n",
      "Total training time: 0.01 seconds.\n",
      "-- Epoch 271\n",
      "Norm: 8.84, NNZs: 1, Bias: 1.555662, T: 4336, Avg. loss: 46.519003\n",
      "Total training time: 0.01 seconds.\n",
      "-- Epoch 272\n",
      "Norm: 8.85, NNZs: 1, Bias: 1.557009, T: 4352, Avg. loss: 46.197978\n",
      "Total training time: 0.01 seconds.\n",
      "-- Epoch 273\n",
      "Norm: 8.86, NNZs: 1, Bias: 1.558347, T: 4368, Avg. loss: 45.880693\n",
      "Total training time: 0.01 seconds.\n",
      "-- Epoch 274\n",
      "Norm: 8.87, NNZs: 1, Bias: 1.559677, T: 4384, Avg. loss: 45.567167\n",
      "Total training time: 0.01 seconds.\n",
      "-- Epoch 275\n",
      "Norm: 8.87, NNZs: 1, Bias: 1.560998, T: 4400, Avg. loss: 45.257328\n",
      "Total training time: 0.01 seconds.\n",
      "-- Epoch 276\n",
      "Norm: 8.88, NNZs: 1, Bias: 1.562311, T: 4416, Avg. loss: 44.951050\n",
      "Total training time: 0.01 seconds.\n",
      "-- Epoch 277\n",
      "Norm: 8.89, NNZs: 1, Bias: 1.563615, T: 4432, Avg. loss: 44.648355\n",
      "Total training time: 0.01 seconds.\n",
      "-- Epoch 278\n",
      "Norm: 8.90, NNZs: 1, Bias: 1.564910, T: 4448, Avg. loss: 44.349236\n",
      "Total training time: 0.01 seconds.\n",
      "-- Epoch 279\n",
      "Norm: 8.90, NNZs: 1, Bias: 1.566198, T: 4464, Avg. loss: 44.053636\n",
      "Total training time: 0.01 seconds.\n",
      "-- Epoch 280\n",
      "Norm: 8.91, NNZs: 1, Bias: 1.567477, T: 4480, Avg. loss: 43.761478\n",
      "Total training time: 0.01 seconds.\n",
      "-- Epoch 281\n",
      "Norm: 8.92, NNZs: 1, Bias: 1.568747, T: 4496, Avg. loss: 43.472744\n",
      "Total training time: 0.01 seconds.\n",
      "-- Epoch 282\n",
      "Norm: 8.93, NNZs: 1, Bias: 1.570010, T: 4512, Avg. loss: 43.187326\n",
      "Total training time: 0.01 seconds.\n",
      "-- Epoch 283\n",
      "Norm: 8.93, NNZs: 1, Bias: 1.571264, T: 4528, Avg. loss: 42.905260\n",
      "Total training time: 0.01 seconds.\n",
      "-- Epoch 284\n",
      "Norm: 8.94, NNZs: 1, Bias: 1.572510, T: 4544, Avg. loss: 42.626465\n",
      "Total training time: 0.01 seconds.\n",
      "-- Epoch 285\n",
      "Norm: 8.95, NNZs: 1, Bias: 1.573749, T: 4560, Avg. loss: 42.350840\n",
      "Total training time: 0.01 seconds.\n",
      "-- Epoch 286\n",
      "Norm: 8.96, NNZs: 1, Bias: 1.574980, T: 4576, Avg. loss: 42.078415\n",
      "Total training time: 0.01 seconds.\n",
      "-- Epoch 287\n",
      "Norm: 8.96, NNZs: 1, Bias: 1.576202, T: 4592, Avg. loss: 41.809199\n",
      "Total training time: 0.01 seconds.\n",
      "-- Epoch 288\n",
      "Norm: 8.97, NNZs: 1, Bias: 1.577417, T: 4608, Avg. loss: 41.543102\n",
      "Total training time: 0.01 seconds.\n",
      "-- Epoch 289\n",
      "Norm: 8.98, NNZs: 1, Bias: 1.578624, T: 4624, Avg. loss: 41.280076\n",
      "Total training time: 0.01 seconds.\n",
      "-- Epoch 290\n",
      "Norm: 8.98, NNZs: 1, Bias: 1.579823, T: 4640, Avg. loss: 41.020089\n",
      "Total training time: 0.01 seconds.\n",
      "-- Epoch 291\n",
      "Norm: 8.99, NNZs: 1, Bias: 1.581015, T: 4656, Avg. loss: 40.763069\n",
      "Total training time: 0.01 seconds.\n",
      "-- Epoch 292\n",
      "Norm: 9.00, NNZs: 1, Bias: 1.582199, T: 4672, Avg. loss: 40.509039\n",
      "Total training time: 0.01 seconds.\n",
      "-- Epoch 293\n",
      "Norm: 9.00, NNZs: 1, Bias: 1.583375, T: 4688, Avg. loss: 40.257938\n",
      "Total training time: 0.01 seconds.\n",
      "-- Epoch 294\n",
      "Norm: 9.01, NNZs: 1, Bias: 1.584545, T: 4704, Avg. loss: 40.009662\n",
      "Total training time: 0.01 seconds.\n",
      "-- Epoch 295\n",
      "Norm: 9.02, NNZs: 1, Bias: 1.585707, T: 4720, Avg. loss: 39.764232\n",
      "Total training time: 0.01 seconds.\n",
      "-- Epoch 296\n",
      "Norm: 9.02, NNZs: 1, Bias: 1.586861, T: 4736, Avg. loss: 39.521651\n",
      "Total training time: 0.01 seconds.\n",
      "-- Epoch 297\n",
      "Norm: 9.03, NNZs: 1, Bias: 1.588008, T: 4752, Avg. loss: 39.281874\n",
      "Total training time: 0.01 seconds.\n",
      "-- Epoch 298\n",
      "Norm: 9.04, NNZs: 1, Bias: 1.589147, T: 4768, Avg. loss: 39.044833\n",
      "Total training time: 0.01 seconds.\n",
      "-- Epoch 299\n",
      "Norm: 9.04, NNZs: 1, Bias: 1.590280, T: 4784, Avg. loss: 38.810522\n",
      "Total training time: 0.01 seconds.\n",
      "-- Epoch 300\n",
      "Norm: 9.05, NNZs: 1, Bias: 1.591405, T: 4800, Avg. loss: 38.578846\n",
      "Total training time: 0.01 seconds.\n"
     ]
    },
    {
     "name": "stderr",
     "output_type": "stream",
     "text": [
      "C:\\workspace\\practice-np_pd_matplotlib\\venv\\lib\\site-packages\\sklearn\\linear_model\\_stochastic_gradient.py:1548: ConvergenceWarning: Maximum number of iteration reached before convergence. Consider increasing max_iter to improve the fit.\n",
      "  warnings.warn(\n"
     ]
    },
    {
     "data": {
      "text/html": [
       "<style>#sk-container-id-5 {color: black;background-color: white;}#sk-container-id-5 pre{padding: 0;}#sk-container-id-5 div.sk-toggleable {background-color: white;}#sk-container-id-5 label.sk-toggleable__label {cursor: pointer;display: block;width: 100%;margin-bottom: 0;padding: 0.3em;box-sizing: border-box;text-align: center;}#sk-container-id-5 label.sk-toggleable__label-arrow:before {content: \"▸\";float: left;margin-right: 0.25em;color: #696969;}#sk-container-id-5 label.sk-toggleable__label-arrow:hover:before {color: black;}#sk-container-id-5 div.sk-estimator:hover label.sk-toggleable__label-arrow:before {color: black;}#sk-container-id-5 div.sk-toggleable__content {max-height: 0;max-width: 0;overflow: hidden;text-align: left;background-color: #f0f8ff;}#sk-container-id-5 div.sk-toggleable__content pre {margin: 0.2em;color: black;border-radius: 0.25em;background-color: #f0f8ff;}#sk-container-id-5 input.sk-toggleable__control:checked~div.sk-toggleable__content {max-height: 200px;max-width: 100%;overflow: auto;}#sk-container-id-5 input.sk-toggleable__control:checked~label.sk-toggleable__label-arrow:before {content: \"▾\";}#sk-container-id-5 div.sk-estimator input.sk-toggleable__control:checked~label.sk-toggleable__label {background-color: #d4ebff;}#sk-container-id-5 div.sk-label input.sk-toggleable__control:checked~label.sk-toggleable__label {background-color: #d4ebff;}#sk-container-id-5 input.sk-hidden--visually {border: 0;clip: rect(1px 1px 1px 1px);clip: rect(1px, 1px, 1px, 1px);height: 1px;margin: -1px;overflow: hidden;padding: 0;position: absolute;width: 1px;}#sk-container-id-5 div.sk-estimator {font-family: monospace;background-color: #f0f8ff;border: 1px dotted black;border-radius: 0.25em;box-sizing: border-box;margin-bottom: 0.5em;}#sk-container-id-5 div.sk-estimator:hover {background-color: #d4ebff;}#sk-container-id-5 div.sk-parallel-item::after {content: \"\";width: 100%;border-bottom: 1px solid gray;flex-grow: 1;}#sk-container-id-5 div.sk-label:hover label.sk-toggleable__label {background-color: #d4ebff;}#sk-container-id-5 div.sk-serial::before {content: \"\";position: absolute;border-left: 1px solid gray;box-sizing: border-box;top: 0;bottom: 0;left: 50%;z-index: 0;}#sk-container-id-5 div.sk-serial {display: flex;flex-direction: column;align-items: center;background-color: white;padding-right: 0.2em;padding-left: 0.2em;position: relative;}#sk-container-id-5 div.sk-item {position: relative;z-index: 1;}#sk-container-id-5 div.sk-parallel {display: flex;align-items: stretch;justify-content: center;background-color: white;position: relative;}#sk-container-id-5 div.sk-item::before, #sk-container-id-5 div.sk-parallel-item::before {content: \"\";position: absolute;border-left: 1px solid gray;box-sizing: border-box;top: 0;bottom: 0;left: 50%;z-index: -1;}#sk-container-id-5 div.sk-parallel-item {display: flex;flex-direction: column;z-index: 1;position: relative;background-color: white;}#sk-container-id-5 div.sk-parallel-item:first-child::after {align-self: flex-end;width: 50%;}#sk-container-id-5 div.sk-parallel-item:last-child::after {align-self: flex-start;width: 50%;}#sk-container-id-5 div.sk-parallel-item:only-child::after {width: 0;}#sk-container-id-5 div.sk-dashed-wrapped {border: 1px dashed gray;margin: 0 0.4em 0.5em 0.4em;box-sizing: border-box;padding-bottom: 0.4em;background-color: white;}#sk-container-id-5 div.sk-label label {font-family: monospace;font-weight: bold;display: inline-block;line-height: 1.2em;}#sk-container-id-5 div.sk-label-container {text-align: center;}#sk-container-id-5 div.sk-container {/* jupyter's `normalize.less` sets `[hidden] { display: none; }` but bootstrap.min.css set `[hidden] { display: none !important; }` so we also need the `!important` here to be able to override the default hidden behavior on the sphinx rendered scikit-learn.org. See: https://github.com/scikit-learn/scikit-learn/issues/21755 */display: inline-block !important;position: relative;}#sk-container-id-5 div.sk-text-repr-fallback {display: none;}</style><div id=\"sk-container-id-5\" class=\"sk-top-container\"><div class=\"sk-text-repr-fallback\"><pre>SGDRegressor(eta0=0.0001, max_iter=300, random_state=3, verbose=1)</pre><b>In a Jupyter environment, please rerun this cell to show the HTML representation or trust the notebook. <br />On GitHub, the HTML representation is unable to render, please try loading this page with nbviewer.org.</b></div><div class=\"sk-container\" hidden><div class=\"sk-item\"><div class=\"sk-estimator sk-toggleable\"><input class=\"sk-toggleable__control sk-hidden--visually\" id=\"sk-estimator-id-5\" type=\"checkbox\" checked><label for=\"sk-estimator-id-5\" class=\"sk-toggleable__label sk-toggleable__label-arrow\">SGDRegressor</label><div class=\"sk-toggleable__content\"><pre>SGDRegressor(eta0=0.0001, max_iter=300, random_state=3, verbose=1)</pre></div></div></div></div></div>"
      ],
      "text/plain": [
       "SGDRegressor(eta0=0.0001, max_iter=300, random_state=3, verbose=1)"
      ]
     },
     "execution_count": 16,
     "metadata": {},
     "output_type": "execute_result"
    }
   ],
   "source": [
    "from sklearn.linear_model import SGDRegressor\n",
    " # SGD : Stochastic Gradient Descent 확률적 경사하강법 \n",
    "# sr = SGDRegressor(max_iter=1000, eta0 = 0.001, random_state=10, verbose=1) # 객체 생성\n",
    "sr = SGDRegressor(max_iter=300, eta0 = 0.0001, random_state=3, verbose=1) # 객체 생성\n",
    "\n",
    "# max_iter : 에포크 , eta0 : Learning Rate , verbose 손실이 줄어드는걸 확인\n",
    "sr.fit(X_train,y_train) # 데이터 학습 => 모델 생성"
   ]
  },
  {
   "cell_type": "markdown",
   "id": "90f0d9db-dca7-4276-b890-dee83b772ed1",
   "metadata": {},
   "source": [
    "### 훈련데이터 시각화"
   ]
  },
  {
   "cell_type": "code",
   "execution_count": 7,
   "id": "db164860-cb7d-43cf-9158-d52c555fe0dc",
   "metadata": {
    "tags": []
   },
   "outputs": [
    {
     "data": {
      "image/png": "[encoded data removed]",
      "text/plain": [
       "<Figure size 640x480 with 1 Axes>"
      ]
     },
     "metadata": {},
     "output_type": "display_data"
    }
   ],
   "source": [
    "# epoch 1000, lr = 0.001\n",
    "\n",
    "plt.scatter(X_train, y_train, color =\"blue\") # 산점도\n",
    "plt.plot(X_train, sr.predict(X_train), color = 'green') # X_train 선그래프\n",
    "plt.title(\"Score by hours (Train data)\")\n",
    "plt.xlabel(\"hours\")\n",
    "plt.ylabel(\"Score\")\n",
    "plt.show()"
   ]
  },
  {
   "cell_type": "code",
   "execution_count": 22,
   "id": "715e5587-8c42-4e38-aa4d-fd5ac6af3c4c",
   "metadata": {
    "tags": []
   },
   "outputs": [
    {
     "data": {
      "image/png": "[encoded data removed]",
      "text/plain": [
       "<Figure size 640x480 with 1 Axes>"
      ]
     },
     "metadata": {},
     "output_type": "display_data"
    }
   ],
   "source": [
    "# epoch 300, lr = 0.0001\n",
    "\n",
    "plt.scatter(X_train, y_train, color =\"blue\") # 산점도\n",
    "plt.plot(X_train, sr.predict(X_train), color = 'green') # X_train 선그래프\n",
    "plt.title(\"Score by hours (Train data) epoch = 300, lr = 0.0001\")\n",
    "plt.xlabel(\"hours\")\n",
    "plt.ylabel(\"Score\")\n",
    "plt.show()"
   ]
  },
  {
   "cell_type": "markdown",
   "id": "619f98e6-5830-451d-8c6a-09c5e4a4df24",
   "metadata": {},
   "source": [
    "### 모델 평가 (epoch = 1000, lr = 0.001)"
   ]
  },
  {
   "cell_type": "code",
   "execution_count": 8,
   "id": "fbac334d-697f-4159-bcd7-6b4ea0c1f83e",
   "metadata": {
    "tags": []
   },
   "outputs": [
    {
     "data": {
      "text/plain": [
       "(array([10.38357582]), array([1.72419732]))"
      ]
     },
     "execution_count": 8,
     "metadata": {},
     "output_type": "execute_result"
    }
   ],
   "source": [
    "sr.coef_, sr.intercept_"
   ]
  },
  {
   "cell_type": "code",
   "execution_count": 9,
   "id": "e5bf105d-51d3-407d-9fb0-4d3156a39f01",
   "metadata": {
    "tags": []
   },
   "outputs": [
    {
     "data": {
      "text/plain": [
       "0.9684349128966958"
      ]
     },
     "execution_count": 9,
     "metadata": {},
     "output_type": "execute_result"
    }
   ],
   "source": [
    "sr.score(X_test, y_test) # 테스트 세트 모델 평가"
   ]
  },
  {
   "cell_type": "code",
   "execution_count": 12,
   "id": "33f63506-4979-4af2-bfea-309c4f1580ed",
   "metadata": {
    "tags": []
   },
   "outputs": [
    {
     "data": {
      "text/plain": [
       "0.9348746447247418"
      ]
     },
     "execution_count": 12,
     "metadata": {},
     "output_type": "execute_result"
    }
   ],
   "source": [
    "sr.score(X_train, y_train) # 훈련 세트 모델 평가\n",
    "#### 좋은 모델의 경우 훈련 세트 평가 점수가 높다"
   ]
  },
  {
   "cell_type": "markdown",
   "id": "3df7a637-68a3-4f3a-8082-d5a656bbfca2",
   "metadata": {},
   "source": [
    "### 모델 평가 (epoch = 300, lr = 0.0001)"
   ]
  },
  {
   "cell_type": "code",
   "execution_count": 18,
   "id": "9a2c1168-28fd-4bf1-9282-1646ff747ed4",
   "metadata": {
    "tags": []
   },
   "outputs": [
    {
     "data": {
      "text/plain": [
       "(array([9.05088105]), array([1.59140478]))"
      ]
     },
     "execution_count": 18,
     "metadata": {},
     "output_type": "execute_result"
    }
   ],
   "source": [
    "sr.coef_, sr.intercept_"
   ]
  },
  {
   "cell_type": "code",
   "execution_count": 19,
   "id": "d37f4b70-f79d-466f-8b2f-129c7688f98e",
   "metadata": {
    "tags": []
   },
   "outputs": [
    {
     "data": {
      "text/plain": [
       "0.9625891914830658"
      ]
     },
     "execution_count": 19,
     "metadata": {},
     "output_type": "execute_result"
    }
   ],
   "source": [
    "sr.score(X_test, y_test) # 테스트 세트 모델 평가"
   ]
  },
  {
   "cell_type": "code",
   "execution_count": 21,
   "id": "69fd0e8b-6fc9-49a9-8df9-09f75f71621e",
   "metadata": {
    "tags": []
   },
   "outputs": [
    {
     "data": {
      "text/plain": [
       "0.8528161188043278"
      ]
     },
     "execution_count": 21,
     "metadata": {},
     "output_type": "execute_result"
    }
   ],
   "source": [
    "sr.score(X_train, y_train) # 훈련 세트 모델 평가"
   ]
  }
 ],
 "metadata": {
  "kernelspec": {
   "display_name": "Python 3 (ipykernel)",
   "language": "python",
   "name": "python3"
  },
  "language_info": {
   "codemirror_mode": {
    "name": "ipython",
    "version": 3
   },
   "file_extension": ".py",
   "mimetype": "text/x-python",
   "name": "python",
   "nbconvert_exporter": "python",
   "pygments_lexer": "ipython3",
   "version": "3.10.10"
  }
 },
 "nbformat": 4,
 "nbformat_minor": 5
}
