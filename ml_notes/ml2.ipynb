{
 "cells": [
  {
   "cell_type": "markdown",
   "id": "e296a4ce-9a8f-497c-9d43-0c1a9bccff27",
   "metadata": {
    "tags": []
   },
   "source": [
    "# Multuple Linear Regression"
   ]
  },
  {
   "cell_type": "markdown",
   "id": "367ab3a7-1108-42c6-b463-a716e13f0d51",
   "metadata": {},
   "source": [
    "### 원 핫 인코딩 "
   ]
  },
  {
   "cell_type": "code",
   "execution_count": 2,
   "id": "0730f521-7c44-4ea4-b1c2-a762f85c38ee",
   "metadata": {
    "tags": []
   },
   "outputs": [
    {
     "data": {
      "text/plain": [
       "(    hour  absent    place\n",
       " 0    0.5       3     Home\n",
       " 1    1.2       4  Library\n",
       " 2    1.8       2     Cafe\n",
       " 3    2.4       0     Cafe\n",
       " 4    2.6       2     Home\n",
       " 5    3.2       0     Home\n",
       " 6    3.9       0  Library\n",
       " 7    4.4       0  Library\n",
       " 8    4.5       5     Home\n",
       " 9    5.0       1     Cafe\n",
       " 10   5.3       2     Cafe\n",
       " 11   5.8       0     Cafe\n",
       " 12   6.0       3  Library\n",
       " 13   6.1       1     Cafe\n",
       " 14   6.2       1  Library\n",
       " 15   6.9       4     Home\n",
       " 16   7.2       2     Cafe\n",
       " 17   8.4       1     Home\n",
       " 18   8.6       1  Library\n",
       " 19  10.0       0  Library,\n",
       " 0      10\n",
       " 1       8\n",
       " 2      14\n",
       " 3      26\n",
       " 4      22\n",
       " 5      30\n",
       " 6      42\n",
       " 7      48\n",
       " 8      38\n",
       " 9      58\n",
       " 10     60\n",
       " 11     72\n",
       " 12     62\n",
       " 13     68\n",
       " 14     72\n",
       " 15     58\n",
       " 16     76\n",
       " 17     86\n",
       " 18     90\n",
       " 19    100\n",
       " Name: score, dtype: int64)"
      ]
     },
     "execution_count": 2,
     "metadata": {},
     "output_type": "execute_result"
    }
   ],
   "source": [
    "import numpy as np\n",
    "import pandas as pd\n",
    "# import matplotlib.pyplot as plt\n",
    "df = pd.read_csv(\"../data/MultipleLinearRegressionData.csv\")\n",
    "X = df.iloc[:,:-1]\n",
    "y = df.iloc[:,-1]\n",
    "X,y"
   ]
  },
  {
   "cell_type": "code",
   "execution_count": 3,
   "id": "7eba93e0-3ef9-4772-bc64-20c8014462a9",
   "metadata": {
    "tags": []
   },
   "outputs": [
    {
     "data": {
      "text/plain": [
       "array([[ 1. ,  0. ,  0.5,  3. ],\n",
       "       [ 0. ,  1. ,  1.2,  4. ],\n",
       "       [ 0. ,  0. ,  1.8,  2. ],\n",
       "       [ 0. ,  0. ,  2.4,  0. ],\n",
       "       [ 1. ,  0. ,  2.6,  2. ],\n",
       "       [ 1. ,  0. ,  3.2,  0. ],\n",
       "       [ 0. ,  1. ,  3.9,  0. ],\n",
       "       [ 0. ,  1. ,  4.4,  0. ],\n",
       "       [ 1. ,  0. ,  4.5,  5. ],\n",
       "       [ 0. ,  0. ,  5. ,  1. ],\n",
       "       [ 0. ,  0. ,  5.3,  2. ],\n",
       "       [ 0. ,  0. ,  5.8,  0. ],\n",
       "       [ 0. ,  1. ,  6. ,  3. ],\n",
       "       [ 0. ,  0. ,  6.1,  1. ],\n",
       "       [ 0. ,  1. ,  6.2,  1. ],\n",
       "       [ 1. ,  0. ,  6.9,  4. ],\n",
       "       [ 0. ,  0. ,  7.2,  2. ],\n",
       "       [ 1. ,  0. ,  8.4,  1. ],\n",
       "       [ 0. ,  1. ,  8.6,  1. ],\n",
       "       [ 0. ,  1. , 10. ,  0. ]])"
      ]
     },
     "execution_count": 3,
     "metadata": {},
     "output_type": "execute_result"
    }
   ],
   "source": [
    "from sklearn.compose import ColumnTransformer\n",
    "from sklearn.preprocessing import OneHotEncoder\n",
    "ct = ColumnTransformer(transformers=[('encoder', OneHotEncoder(drop='first'), [2])], remainder='passthrough')\n",
    "# 원핫 인코딩 할 컬럼 : [2]\n",
    "# drop first => 범주가 3개('Home' , 'Library' 'Cafe') 인데  다중공선성 때문에 한 컬럼을 없앰  \n",
    "X = ct.fit_transform(X)\n",
    "X # 원데이터 앞쪽에 2개 컬럼이 추가됨 \n",
    "# 1,0 => Home\n",
    "# 0,1 => Library\n",
    "# 0,0 => Cafe"
   ]
  },
  {
   "cell_type": "markdown",
   "id": "932d68dd-e697-49b8-914d-cf4ac7ebcdb6",
   "metadata": {},
   "source": [
    "### 데이터 세트 분리"
   ]
  },
  {
   "cell_type": "code",
   "execution_count": 4,
   "id": "e8b1f97f-53d2-4492-9e29-095a9864676d",
   "metadata": {
    "tags": []
   },
   "outputs": [],
   "source": [
    "from sklearn.model_selection import train_test_split\n",
    "X_train, X_test, y_train, y_test = train_test_split(X,y, test_size = 0.2 , random_state=0)"
   ]
  },
  {
   "cell_type": "markdown",
   "id": "9f7a612f-b0fc-4c1d-b47a-779b583dcaa6",
   "metadata": {},
   "source": [
    "### 다중선형 회귀 학습"
   ]
  },
  {
   "cell_type": "code",
   "execution_count": 5,
   "id": "8c813d52-8c96-49d6-9290-74e64fe19bc9",
   "metadata": {
    "tags": []
   },
   "outputs": [
    {
     "data": {
      "text/html": [
       "<style>#sk-container-id-1 {color: black;background-color: white;}#sk-container-id-1 pre{padding: 0;}#sk-container-id-1 div.sk-toggleable {background-color: white;}#sk-container-id-1 label.sk-toggleable__label {cursor: pointer;display: block;width: 100%;margin-bottom: 0;padding: 0.3em;box-sizing: border-box;text-align: center;}#sk-container-id-1 label.sk-toggleable__label-arrow:before {content: \"▸\";float: left;margin-right: 0.25em;color: #696969;}#sk-container-id-1 label.sk-toggleable__label-arrow:hover:before {color: black;}#sk-container-id-1 div.sk-estimator:hover label.sk-toggleable__label-arrow:before {color: black;}#sk-container-id-1 div.sk-toggleable__content {max-height: 0;max-width: 0;overflow: hidden;text-align: left;background-color: #f0f8ff;}#sk-container-id-1 div.sk-toggleable__content pre {margin: 0.2em;color: black;border-radius: 0.25em;background-color: #f0f8ff;}#sk-container-id-1 input.sk-toggleable__control:checked~div.sk-toggleable__content {max-height: 200px;max-width: 100%;overflow: auto;}#sk-container-id-1 input.sk-toggleable__control:checked~label.sk-toggleable__label-arrow:before {content: \"▾\";}#sk-container-id-1 div.sk-estimator input.sk-toggleable__control:checked~label.sk-toggleable__label {background-color: #d4ebff;}#sk-container-id-1 div.sk-label input.sk-toggleable__control:checked~label.sk-toggleable__label {background-color: #d4ebff;}#sk-container-id-1 input.sk-hidden--visually {border: 0;clip: rect(1px 1px 1px 1px);clip: rect(1px, 1px, 1px, 1px);height: 1px;margin: -1px;overflow: hidden;padding: 0;position: absolute;width: 1px;}#sk-container-id-1 div.sk-estimator {font-family: monospace;background-color: #f0f8ff;border: 1px dotted black;border-radius: 0.25em;box-sizing: border-box;margin-bottom: 0.5em;}#sk-container-id-1 div.sk-estimator:hover {background-color: #d4ebff;}#sk-container-id-1 div.sk-parallel-item::after {content: \"\";width: 100%;border-bottom: 1px solid gray;flex-grow: 1;}#sk-container-id-1 div.sk-label:hover label.sk-toggleable__label {background-color: #d4ebff;}#sk-container-id-1 div.sk-serial::before {content: \"\";position: absolute;border-left: 1px solid gray;box-sizing: border-box;top: 0;bottom: 0;left: 50%;z-index: 0;}#sk-container-id-1 div.sk-serial {display: flex;flex-direction: column;align-items: center;background-color: white;padding-right: 0.2em;padding-left: 0.2em;position: relative;}#sk-container-id-1 div.sk-item {position: relative;z-index: 1;}#sk-container-id-1 div.sk-parallel {display: flex;align-items: stretch;justify-content: center;background-color: white;position: relative;}#sk-container-id-1 div.sk-item::before, #sk-container-id-1 div.sk-parallel-item::before {content: \"\";position: absolute;border-left: 1px solid gray;box-sizing: border-box;top: 0;bottom: 0;left: 50%;z-index: -1;}#sk-container-id-1 div.sk-parallel-item {display: flex;flex-direction: column;z-index: 1;position: relative;background-color: white;}#sk-container-id-1 div.sk-parallel-item:first-child::after {align-self: flex-end;width: 50%;}#sk-container-id-1 div.sk-parallel-item:last-child::after {align-self: flex-start;width: 50%;}#sk-container-id-1 div.sk-parallel-item:only-child::after {width: 0;}#sk-container-id-1 div.sk-dashed-wrapped {border: 1px dashed gray;margin: 0 0.4em 0.5em 0.4em;box-sizing: border-box;padding-bottom: 0.4em;background-color: white;}#sk-container-id-1 div.sk-label label {font-family: monospace;font-weight: bold;display: inline-block;line-height: 1.2em;}#sk-container-id-1 div.sk-label-container {text-align: center;}#sk-container-id-1 div.sk-container {/* jupyter's `normalize.less` sets `[hidden] { display: none; }` but bootstrap.min.css set `[hidden] { display: none !important; }` so we also need the `!important` here to be able to override the default hidden behavior on the sphinx rendered scikit-learn.org. See: https://github.com/scikit-learn/scikit-learn/issues/21755 */display: inline-block !important;position: relative;}#sk-container-id-1 div.sk-text-repr-fallback {display: none;}</style><div id=\"sk-container-id-1\" class=\"sk-top-container\"><div class=\"sk-text-repr-fallback\"><pre>LinearRegression()</pre><b>In a Jupyter environment, please rerun this cell to show the HTML representation or trust the notebook. <br />On GitHub, the HTML representation is unable to render, please try loading this page with nbviewer.org.</b></div><div class=\"sk-container\" hidden><div class=\"sk-item\"><div class=\"sk-estimator sk-toggleable\"><input class=\"sk-toggleable__control sk-hidden--visually\" id=\"sk-estimator-id-1\" type=\"checkbox\" checked><label for=\"sk-estimator-id-1\" class=\"sk-toggleable__label sk-toggleable__label-arrow\">LinearRegression</label><div class=\"sk-toggleable__content\"><pre>LinearRegression()</pre></div></div></div></div></div>"
      ],
      "text/plain": [
       "LinearRegression()"
      ]
     },
     "execution_count": 5,
     "metadata": {},
     "output_type": "execute_result"
    }
   ],
   "source": [
    "from sklearn.linear_model import LinearRegression\n",
    "reg = LinearRegression()\n",
    "reg.fit(X_train, y_train)"
   ]
  },
  {
   "cell_type": "markdown",
   "id": "4775dde4-d1a2-4019-92d7-84d4d5a6691d",
   "metadata": {},
   "source": [
    "### 예측 값과 실제 값 비교 (테스트 세트)"
   ]
  },
  {
   "cell_type": "code",
   "execution_count": 6,
   "id": "30100106-816f-4325-95a4-51ced278bbd3",
   "metadata": {
    "tags": []
   },
   "outputs": [
    {
     "data": {
      "text/plain": [
       "array([ 92.15457859,  10.23753043, 108.36245302,  38.14675204])"
      ]
     },
     "execution_count": 6,
     "metadata": {},
     "output_type": "execute_result"
    }
   ],
   "source": [
    "y_pred = reg.predict(X_test) # 테스트 세트로 예측 y_pred\n",
    "y_pred"
   ]
  },
  {
   "cell_type": "code",
   "execution_count": 8,
   "id": "d6cd643d-f42f-4588-8f95-c6572337e684",
   "metadata": {
    "tags": []
   },
   "outputs": [
    {
     "data": {
      "text/plain": [
       "18     90\n",
       "1       8\n",
       "19    100\n",
       "8      38\n",
       "Name: score, dtype: int64"
      ]
     },
     "execution_count": 8,
     "metadata": {},
     "output_type": "execute_result"
    }
   ],
   "source": [
    "y_test # 테스트 y 값 y_test"
   ]
  },
  {
   "cell_type": "code",
   "execution_count": 10,
   "id": "b0e90d15-0fc6-43a7-944b-5beda728c8dd",
   "metadata": {
    "tags": []
   },
   "outputs": [
    {
     "data": {
      "text/plain": [
       "array([-5.82712824, -1.04450647, 10.40419528, -1.64200104])"
      ]
     },
     "execution_count": 10,
     "metadata": {},
     "output_type": "execute_result"
    }
   ],
   "source": [
    "reg.coef_# 집 , 도서관, 공부시간, 결석 횟수 ==> 계수들"
   ]
  },
  {
   "cell_type": "code",
   "execution_count": 11,
   "id": "e237f711-389e-4da2-af1d-6eab36f749b3",
   "metadata": {
    "tags": []
   },
   "outputs": [
    {
     "data": {
      "text/plain": [
       "5.365006706544776"
      ]
     },
     "execution_count": 11,
     "metadata": {},
     "output_type": "execute_result"
    }
   ],
   "source": [
    "reg.intercept_"
   ]
  },
  {
   "cell_type": "markdown",
   "id": "fdcb2244-709f-44ad-953a-177bd0b3463f",
   "metadata": {},
   "source": [
    "## 모델 평가"
   ]
  },
  {
   "cell_type": "code",
   "execution_count": 12,
   "id": "53955cc6-9779-483d-be1d-edc77a05c9cd",
   "metadata": {
    "tags": []
   },
   "outputs": [
    {
     "data": {
      "text/plain": [
       "0.9623352565265527"
      ]
     },
     "execution_count": 12,
     "metadata": {},
     "output_type": "execute_result"
    }
   ],
   "source": [
    "reg.score(X_train, y_train) # 훈련 세트"
   ]
  },
  {
   "cell_type": "code",
   "execution_count": 15,
   "id": "5fe5aae7-87cb-4891-aa82-cd9813a626f3",
   "metadata": {
    "tags": []
   },
   "outputs": [
    {
     "data": {
      "text/plain": [
       "0.9859956178877446"
      ]
     },
     "execution_count": 15,
     "metadata": {},
     "output_type": "execute_result"
    }
   ],
   "source": [
    "reg.score(X_test, y_test) # 테스트 세트\n",
    "# 테스트 세트 점수가 더 높으므로 좋은 모델이라 할수있음"
   ]
  }
 ],
 "metadata": {
  "kernelspec": {
   "display_name": "Python 3 (ipykernel)",
   "language": "python",
   "name": "python3"
  },
  "language_info": {
   "codemirror_mode": {
    "name": "ipython",
    "version": 3
   },
   "file_extension": ".py",
   "mimetype": "text/x-python",
   "name": "python",
   "nbconvert_exporter": "python",
   "pygments_lexer": "ipython3",
   "version": "3.10.10"
  }
 },
 "nbformat": 4,
 "nbformat_minor": 5
}
