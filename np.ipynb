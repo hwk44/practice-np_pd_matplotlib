{
 "cells": [
  {
   "cell_type": "code",
   "execution_count": 3,
   "id": "71894f66-f141-4551-989c-19a47194c37b",
   "metadata": {
    "tags": []
   },
   "outputs": [],
   "source": [
    "import numpy as np\n",
    "import pandas as pd\n"
   ]
  },
  {
   "cell_type": "code",
   "execution_count": 4,
   "id": "9afecccd-8239-40de-bad9-5e64e46adaf5",
   "metadata": {
    "tags": []
   },
   "outputs": [
    {
     "data": {
      "text/plain": [
       "array([0, 1, 2, 3])"
      ]
     },
     "execution_count": 4,
     "metadata": {},
     "output_type": "execute_result"
    }
   ],
   "source": [
    "a = np.array([0, 1, 2, 3])\n",
    "a"
   ]
  },
  {
   "cell_type": "markdown",
   "id": "4f474c6b-be2f-4c20-be2d-81fbdf55fbd0",
   "metadata": {},
   "source": [
    "### 배열 생성"
   ]
  },
  {
   "cell_type": "code",
   "execution_count": 6,
   "id": "37665577-1c19-4856-b080-7ea5c59c25d7",
   "metadata": {
    "tags": []
   },
   "outputs": [
    {
     "name": "stdout",
     "output_type": "stream",
     "text": [
      "1\n",
      "(4,)\n",
      "4\n"
     ]
    }
   ],
   "source": [
    "a = np.array([0, 1, 2, 3])\n",
    "\n",
    "print(a.ndim)\n",
    "print(a.shape)\n",
    "print(len(a))"
   ]
  },
  {
   "cell_type": "markdown",
   "id": "0fa55248-c9e4-4892-98ab-eb49ff26208b",
   "metadata": {},
   "source": [
    "#### 다차원의 경우"
   ]
  },
  {
   "cell_type": "code",
   "execution_count": null,
   "id": "3cbdb432-281f-4e93-ba85-54818bfd7c74",
   "metadata": {
    "tags": []
   },
   "outputs": [],
   "source": [
    "b = np.array([[0, 1, 2], [3, 4, 5]])    # 2 x 3 array\n",
    "print(b)\n",
    "print(b.ndim)\n",
    "print(b.shape)\n",
    "print(len(b))     # 첫번째 차원 반환\n",
    "\n",
    "c = np.array([[[1, 2], [2,3]], [[3,4], [4,5]]]) # 2 x 2 x 2\n",
    "# c = np.array([[[1], [2]], [[3], [4]]]) # 2 x 2 x 1\n",
    "print(c)\n",
    "print(c.shape)"
   ]
  },
  {
   "cell_type": "markdown",
   "id": "7b8f6044-9dd2-4cbf-af7b-5b37f9e29700",
   "metadata": {
    "tags": []
   },
   "source": [
    "#### 균일 간격"
   ]
  },
  {
   "cell_type": "code",
   "execution_count": 13,
   "id": "7e97e183-1d74-4289-9ccd-1a7bd2d45b87",
   "metadata": {},
   "outputs": [
    {
     "name": "stdout",
     "output_type": "stream",
     "text": [
      "[0 1 2 3 4 5 6 7 8 9]\n",
      "[1 3 5 7]\n"
     ]
    }
   ],
   "source": [
    "# 많이 쓰임\n",
    "a = np.arange(10) # 0 .. n-1  (!)\n",
    "print(a)\n",
    "\n",
    "b = np.arange(1, 9, 2) # start, end (exclusive), step\n",
    "print(b)\n"
   ]
  },
  {
   "cell_type": "markdown",
   "id": "5adc6c68-ccd6-4994-a257-df29804b9508",
   "metadata": {},
   "source": [
    "#### 포인트 수"
   ]
  },
  {
   "cell_type": "code",
   "execution_count": 125,
   "id": "1da8f23b-d92a-4164-ae64-43682ee3be45",
   "metadata": {
    "tags": []
   },
   "outputs": [
    {
     "name": "stdout",
     "output_type": "stream",
     "text": [
      "[0.   0.25 0.5  0.75 1.  ]\n",
      "[0.  0.2 0.4 0.6 0.8]\n"
     ]
    }
   ],
   "source": [
    "c = np.linspace(0, 1, 6)   # start, end, num-points\n",
    "print(c) # [0 , 1] 구간 6등분\n",
    "\n",
    "d = np.linspace(0, 1, 5, endpoint=False) \n",
    "print(d) # [0 ,1] 구간 끝점 포함하지 않고 5등분 "
   ]
  },
  {
   "cell_type": "markdown",
   "id": "bca89b0d-347c-4af7-bcf1-4a8bb7658201",
   "metadata": {},
   "source": [
    "#### 공통 배열"
   ]
  },
  {
   "cell_type": "code",
   "execution_count": 17,
   "id": "c536bf0f-8a88-4488-8a67-0aff94aeee4f",
   "metadata": {
    "tags": []
   },
   "outputs": [
    {
     "name": "stdout",
     "output_type": "stream",
     "text": [
      "[[1. 1. 1.]\n",
      " [1. 1. 1.]\n",
      " [1. 1. 1.]]\n",
      "<class 'numpy.ndarray'>\n",
      "[[0. 0.]\n",
      " [0. 0.]]\n",
      "<class 'numpy.ndarray'>\n",
      "[[1. 0. 0.]\n",
      " [0. 1. 0.]\n",
      " [0. 0. 1.]]\n",
      "<class 'numpy.ndarray'>\n",
      "[[1 0 0 0]\n",
      " [0 2 0 0]\n",
      " [0 0 3 0]\n",
      " [0 0 0 4]]\n",
      "<class 'numpy.ndarray'>\n"
     ]
    }
   ],
   "source": [
    "a = np.ones((3, 3))  # reminder: (3, 3) is a tuple\n",
    "print(a)\n",
    "print(type(a))\n",
    "\n",
    "b = np.zeros((2, 2))\n",
    "print(b)\n",
    "print(type(b))\n",
    "\n",
    "c = np.eye(3)  # 대각 행렬\n",
    "print(c)\n",
    "print(type(c))\n",
    "\n",
    "d = np.diag(np.array([1, 2, 3, 4]))\n",
    "print(d)\n",
    "print(type(d))"
   ]
  },
  {
   "cell_type": "markdown",
   "id": "d5dd17ee-bfaf-4fd5-89a4-bcb9d7f78b19",
   "metadata": {},
   "source": [
    "#### 난수 생성"
   ]
  },
  {
   "cell_type": "code",
   "execution_count": 47,
   "id": "a13c231e-0259-4dfe-86b3-6b54f9d311d7",
   "metadata": {
    "tags": []
   },
   "outputs": [
    {
     "name": "stdout",
     "output_type": "stream",
     "text": [
      "[0.52822428 0.95142876 0.48035918 0.50255956]\n",
      "[ 1.32110562  0.15263055  0.16452954 -0.43009569]\n",
      "[ 1.32110562  0.15263055  0.16452954 -0.43009569]\n"
     ]
    }
   ],
   "source": [
    "# np.random.seed(1234)  # 난수 씨앗 생성 => 값 고정\n",
    "a = np.random.rand(4)       #  [0, 1) 난수 \n",
    "print(a)\n",
    "\n",
    "b = np.random.randn(4)      # Gaussian\n",
    "print(b)                    # 표준정규분포 난수\n",
    "# print(type(b))\n"
   ]
  },
  {
   "cell_type": "code",
   "execution_count": 160,
   "id": "080ee61f-9a48-4432-8156-0019020ea5fe",
   "metadata": {
    "tags": []
   },
   "outputs": [
    {
     "name": "stdout",
     "output_type": "stream",
     "text": [
      "[0 0 0 0 0 0]\n",
      "[15  7 14 15 14]\n",
      "[[2 1 4]\n",
      " [5 2 1]]\n"
     ]
    }
   ],
   "source": [
    "# np.random.seed(1234)\n",
    "\n",
    "a = np.random.randint(1, size=6) # [0, 1) 정수 6개\n",
    "print(a)\n",
    "\n",
    "b = np.random.randint(7, 16, size=5) # [2, 4) 5개\n",
    "print(b)\n",
    "\n",
    "c = np.random.randint(0, 9, size=(2, 3)) # [0, 9) 2 X 3 \n",
    "print(c)\n",
    "# np.random.seed(1234)"
   ]
  },
  {
   "cell_type": "markdown",
   "id": "4941cd4c-3be8-4837-92e5-47e52a1a94db",
   "metadata": {},
   "source": [
    "### 기본 시각화"
   ]
  },
  {
   "cell_type": "code",
   "execution_count": 122,
   "id": "9d5a008f-6ee7-427f-b59f-fc2c750bbfb4",
   "metadata": {
    "tags": []
   },
   "outputs": [],
   "source": [
    "# %matplotlib\n",
    "%matplotlib inline\n",
    "import matplotlib.pyplot as plt  # the tidy way"
   ]
  },
  {
   "cell_type": "markdown",
   "id": "35c49a54-5dd2-4533-9b98-22387ea5372d",
   "metadata": {},
   "source": [
    "#### 1D plotting:"
   ]
  },
  {
   "cell_type": "code",
   "execution_count": 123,
   "id": "c8161a3b-f67d-46ae-afd8-f3a07dc73d60",
   "metadata": {
    "tags": []
   },
   "outputs": [
    {
     "data": {
      "image/png": "[encoded data removed]",
      "text/plain": [
       "<Figure size 640x480 with 1 Axes>"
      ]
     },
     "metadata": {},
     "output_type": "display_data"
    }
   ],
   "source": [
    "x = np.linspace(0, 3, 20) # 끝점 포함 20등분\n",
    "y = np.linspace(0, 9, 20)\n",
    "# print(x) # 데이터 확인\n",
    "# print(y)\n",
    "\n",
    "plt.plot(x, y)       # default - line plot    \n",
    "\n",
    "plt.plot(x, y, 'o')  # dot plot    \n",
    "\n",
    "plt.plot(x, y)       # line plot    \n",
    "plt.show()           # <-- shows the plot (not needed with interactive plots) "
   ]
  },
  {
   "cell_type": "markdown",
   "id": "d1efbe9d-79e2-44fc-a377-0ce5ab8e7bb6",
   "metadata": {},
   "source": [
    "#### 2D arrays (such as images):"
   ]
  },
  {
   "cell_type": "code",
   "execution_count": 137,
   "id": "1309195f-9f49-42d4-bf9f-79eefc9c8513",
   "metadata": {
    "tags": []
   },
   "outputs": [
    {
     "data": {
      "text/plain": [
       "<matplotlib.colorbar.Colorbar at 0x1d91728b9d0>"
      ]
     },
     "execution_count": 137,
     "metadata": {},
     "output_type": "execute_result"
    },
    {
     "data": {
      "image/png": "[encoded data removed]",
      "text/plain": [
       "<Figure size 640x480 with 2 Axes>"
      ]
     },
     "metadata": {},
     "output_type": "display_data"
    }
   ],
   "source": [
    "image = np.random.rand(30, 30) \n",
    "# print(image) # [0, 1) 30 X 30 array\n",
    "# 정확한 의미는 모르겠으나 숫자를 올릴수록 많은 픽셀을 담는 느낌.\n",
    "\n",
    "plt.imshow(image, cmap=plt.cm.winter_r)    \n",
    "\n",
    "plt.colorbar() #"
   ]
  },
  {
   "cell_type": "code",
   "execution_count": 136,
   "id": "11626193-697d-4d0e-9358-a684987e1391",
   "metadata": {
    "tags": []
   },
   "outputs": [
    {
     "data": {
      "text/plain": [
       "<matplotlib.colorbar.Colorbar at 0x1d9171f9540>"
      ]
     },
     "execution_count": 136,
     "metadata": {},
     "output_type": "execute_result"
    },
    {
     "data": {
      "image/png": "[encoded data removed]",
      "text/plain": [
       "<Figure size 640x480 with 2 Axes>"
      ]
     },
     "metadata": {},
     "output_type": "display_data"
    }
   ],
   "source": [
    "image = np.random.rand(100, 100)\n",
    "# print(image) # [0, 1) 30 X 30 array\n",
    "plt.imshow(image, cmap=plt.cm.winter_r)    \n",
    "\n",
    "plt.colorbar() #"
   ]
  },
  {
   "cell_type": "markdown",
   "id": "88469606-ae13-458d-bb19-aec3a2e37972",
   "metadata": {
    "tags": []
   },
   "source": [
    "### Indexing and slicing"
   ]
  },
  {
   "cell_type": "markdown",
   "id": "050e9393-79ab-4b39-8887-f84b19b04e8a",
   "metadata": {
    "tags": []
   },
   "source": [
    "#### Indexing"
   ]
  },
  {
   "cell_type": "code",
   "execution_count": 142,
   "id": "27a6c13d-9059-4cdc-8f63-376491a7b9da",
   "metadata": {
    "tags": []
   },
   "outputs": [
    {
     "name": "stdout",
     "output_type": "stream",
     "text": [
      "[0 1 2 3 4 5 6 7 8 9]\n",
      "0 2 9\n",
      "[9 8 7 6 5 4 3 2 1 0]\n"
     ]
    }
   ],
   "source": [
    "a = np.arange(10)\n",
    "print(a)\n",
    "\n",
    "print(a[0], a[2], a[-1])\n",
    "print(a[::-1])"
   ]
  },
  {
   "cell_type": "code",
   "execution_count": 145,
   "id": "e3c4c0a7-67b9-42a7-a022-54bbee78903d",
   "metadata": {
    "tags": []
   },
   "outputs": [
    {
     "name": "stdout",
     "output_type": "stream",
     "text": [
      "[[0 0 0]\n",
      " [0 1 0]\n",
      " [0 0 2]]\n",
      "1\n",
      "[[ 0  0  0]\n",
      " [ 0  1  0]\n",
      " [ 0 10  2]]\n",
      "[0 1 0]\n"
     ]
    }
   ],
   "source": [
    "a = np.diag(np.arange(3)) # 대각행렬 [0 ,1 ,2]\n",
    "print(a)\n",
    "\n",
    "print(a[1, 1])\n",
    "\n",
    "a[2, 1] = 10 # third line, second column\n",
    "print(a)\n",
    "\n",
    "print(a[1])"
   ]
  },
  {
   "cell_type": "markdown",
   "id": "120a7ff5-07cd-4b71-8e1b-0c78bd369eea",
   "metadata": {},
   "source": [
    "#### slicing"
   ]
  },
  {
   "cell_type": "code",
   "execution_count": 212,
   "id": "e4189088-6846-4a76-89ca-0168772f2468",
   "metadata": {
    "tags": []
   },
   "outputs": [
    {
     "name": "stdout",
     "output_type": "stream",
     "text": [
      "[0 1 2 3 4 5 6 7 8 9]\n",
      "[3 6]\n",
      "[0 1 2 3]\n",
      "True\n"
     ]
    }
   ],
   "source": [
    "a = np.arange(10)\n",
    "print(a)\n",
    "\n",
    "# print(a[2:9:3]) # [start:end:step]\n",
    "print(a[3:9:3]) # 끝점 포함 안함\n",
    "print(a[:4])\n",
    "\n",
    "## 슬라이싱 할때 주의  ===>> Copies and Side Effect\n",
    "print(np.may_share_memory(a, a[:4])) # 메모리 공유"
   ]
  },
  {
   "cell_type": "code",
   "execution_count": 154,
   "id": "f18df87b-1891-4f96-aeac-ce4fe46cedd2",
   "metadata": {
    "tags": []
   },
   "outputs": [
    {
     "name": "stdout",
     "output_type": "stream",
     "text": [
      "[1 2]\n",
      "[0 2 4 6 8]\n",
      "[0 3 6 9]\n",
      "[3 4 5 6 7 8 9]\n"
     ]
    }
   ],
   "source": [
    "print(a[1:3])\n",
    "\n",
    "print(a[::2])\n",
    "print(a[::3]) # 여기는 끝값 포함..\n",
    "\n",
    "print(a[3:])\n"
   ]
  },
  {
   "cell_type": "code",
   "execution_count": 155,
   "id": "640738e5-a522-4b80-a839-3f4e36bb2a38",
   "metadata": {
    "tags": []
   },
   "outputs": [
    {
     "name": "stdout",
     "output_type": "stream",
     "text": [
      "[ 0  1  2  3  4 10 10 10 10 10]\n",
      "[0 1 2 3 4 4 3 2 1 0]\n"
     ]
    }
   ],
   "source": [
    "# 슬라이싱으로 값 할당\n",
    "a = np.arange(10)\n",
    "a[5:] = 10\n",
    "print(a)\n",
    "\n",
    "b = np.arange(5)\n",
    "a[5:] = b[::-1]\n",
    " \n",
    "# print(b[::-1]) # [4, 3, 2, 1, 0]\n",
    "print(a)\n"
   ]
  },
  {
   "cell_type": "markdown",
   "id": "e5869a1c-e772-44a2-a59a-129790c4e543",
   "metadata": {},
   "source": [
    "#### 예제"
   ]
  },
  {
   "cell_type": "code",
   "execution_count": null,
   "id": "9581a778-fbc5-4143-a0b3-908830d9e8cb",
   "metadata": {},
   "outputs": [],
   "source": [
    "# 다음과 같은 배열을 만듭시다.\n",
    "# 데이터 타입도 맞춰서\n",
    "\n",
    "# [[1, 1, 1, 1],\n",
    "#  [1, 1, 1, 1],\n",
    "#  [1, 1, 1, 2],\n",
    "#  [1, 6, 1, 1]]\n",
    "\n",
    "# [[0., 0., 0., 0., 0.],\n",
    "#  [2., 0., 0., 0., 0.],\n",
    "#  [0., 3., 0., 0., 0.],\n",
    "#  [0., 0., 4., 0., 0.],\n",
    "#  [0., 0., 0., 5., 0.],\n",
    "#  [0., 0., 0., 0., 6.]]\n",
    "\n",
    "# Par on course: 3 statements for each\n",
    "\n",
    "# Hint: Individual array elements can be accessed similarly to a list, e.g. a[1] or a[1, 2].\n",
    "\n",
    "# Hint: Examine the docstring for diag."
   ]
  },
  {
   "cell_type": "code",
   "execution_count": 167,
   "id": "6e98701c-6d48-497d-81da-465c2e36d9ad",
   "metadata": {
    "tags": []
   },
   "outputs": [
    {
     "data": {
      "text/plain": [
       "array([[1, 1, 1, 1],\n",
       "       [1, 1, 1, 1],\n",
       "       [1, 1, 1, 2],\n",
       "       [1, 6, 1, 1]])"
      ]
     },
     "execution_count": 167,
     "metadata": {},
     "output_type": "execute_result"
    }
   ],
   "source": [
    "a= np.random.randint(1,2,size = (4,4))\n",
    "a[3][1] = 6\n",
    "a[2][3] = 2\n",
    "a\n",
    "# type(a)"
   ]
  },
  {
   "cell_type": "code",
   "execution_count": 191,
   "id": "3b4b60ba-9592-41e8-ad9d-3d6f6ac129dd",
   "metadata": {
    "tags": []
   },
   "outputs": [
    {
     "name": "stdout",
     "output_type": "stream",
     "text": [
      "[2 3 4 5 6]\n",
      "[[2. 0. 0. 0. 0.]\n",
      " [0. 3. 0. 0. 0.]\n",
      " [0. 0. 4. 0. 0.]\n",
      " [0. 0. 0. 5. 0.]\n",
      " [0. 0. 0. 0. 6.]\n",
      " [0. 0. 0. 0. 0.]]\n"
     ]
    }
   ],
   "source": [
    "# 못풀었다..\n",
    "\n",
    "# a= np.zeros(3,3) # => Error\n",
    "a= np.zeros((6,5) )\n",
    "# b = np.arange(2,7)\n",
    "b = np.array([2, 3, 4, 5, 6]) \n",
    "print(b)\n",
    "np.fill_diagonal(a, b)\n",
    "# np.fill_diagonal(a, k = -1, b) # Error\n",
    "\n",
    "print(a)"
   ]
  },
  {
   "cell_type": "markdown",
   "id": "805282a6-9f9a-4766-a490-0f0188628b8e",
   "metadata": {},
   "source": [
    "### Copies and Side Effect"
   ]
  },
  {
   "cell_type": "code",
   "execution_count": 199,
   "id": "f753b891-979a-4778-98f0-53fb48d04b99",
   "metadata": {
    "tags": []
   },
   "outputs": [
    {
     "name": "stdout",
     "output_type": "stream",
     "text": [
      "[0 1 2 3 4 5 6 7 8 9]\n",
      "True\n",
      "==================================\n",
      "\n",
      "[ 0  2  4  6 30]\n",
      "[ 0  1  2  3  4  5  6  7 30  9]\n",
      "==================================\n",
      "\n",
      "[12  2  4  6 30]\n",
      "[12  1  2  3  4  5  6  7 30  9]\n",
      "==================================\n",
      "\n",
      "[0 1 2 3 4 5 6 7 8 9]\n",
      "[12  2  4  6  8]\n",
      "False\n"
     ]
    }
   ],
   "source": [
    "# 보기를 수정할 때 원래 배열도 수정됩니다\n",
    "# 슬라이싱 은 원본 어레이의 부분을 가져온 것이다.\n",
    "# 자바의 참조 느낌\n",
    "\n",
    "a = np.arange(10)\n",
    "print(a)\n",
    "\n",
    "b = a[::2]\n",
    "\n",
    "print(np.may_share_memory(a, b)) # a,b가 메모리를 공유하는가?\n",
    "print(\"==================================\\n\")\n",
    "\n",
    "b[4] = 30\n",
    "print(b) # b의 4번째 인덱스가 30이 됨\n",
    "print(a) # a의값도 바뀜 \n",
    "\n",
    "\n",
    "print(\"==================================\\n\")\n",
    "b[0] = 12\n",
    "print(b)\n",
    "print(a)   # a 의 값도 바뀜\n",
    "\n",
    "print(\"==================================\\n\")\n",
    "a = np.arange(10)\n",
    "c = a[::2].copy()  # 참조를 피하기 위해 copy (복사)\n",
    "c[0] = 12\n",
    "print(a)\n",
    "print(c)\n",
    "\n",
    "\n",
    "print(np.may_share_memory(a, c)) # 메모리 공유 안함"
   ]
  },
  {
   "cell_type": "markdown",
   "id": "e7a10b00-4fb0-48f9-9d4d-53d4d726ae7e",
   "metadata": {},
   "source": [
    "#### Using masks"
   ]
  },
  {
   "cell_type": "code",
   "execution_count": 206,
   "id": "64a3c458-9762-444d-aeea-1690882dc021",
   "metadata": {
    "tags": []
   },
   "outputs": [
    {
     "name": "stdout",
     "output_type": "stream",
     "text": [
      "[10  3  8  0 19 10 11  9 10  6  0 20 12  7 14]\n",
      "[False  True False  True False False False  True False  True  True False\n",
      "  True False False]\n",
      "[ 3  0  9  6  0 12]\n",
      "False\n"
     ]
    }
   ],
   "source": [
    "np.random.seed(3)\n",
    "a = np.random.randint(0, 21, 15)\n",
    "print(a)\n",
    "\n",
    "print(a % 3 == 0)\n",
    "\n",
    "\n",
    "mask = (a % 3 == 0)\n",
    "print(a[mask])\n",
    "# extract_from_a = a[mask] # or,  a[a%3==0]\n",
    "extract_from_a = a[a % 3 == 0]\n",
    "extract_from_a           # extract a sub-array with the mask\n",
    "\n",
    "print(np.may_share_memory(a, extract_from_a)) # 메모리 공유 안함"
   ]
  },
  {
   "cell_type": "code",
   "execution_count": 205,
   "id": "9156e2ae-b596-4af2-9d45-5c827a5a8c6f",
   "metadata": {
    "tags": []
   },
   "outputs": [
    {
     "name": "stdout",
     "output_type": "stream",
     "text": [
      "[19 12  2  8  0  9 17 19  1 17 11  5 20 14  0]\n",
      "[19  0  2  8  0  0 17 19  1 17 11  5 20 14  0]\n"
     ]
    }
   ],
   "source": [
    "np.random.seed(29)\n",
    "b = np.random.randint(0, 21, 15)\n",
    "print(b)\n",
    "divided_by_3 = b[ b % 3 == 0] = False\n",
    "print(b)"
   ]
  },
  {
   "cell_type": "markdown",
   "id": "f1bd5ad2-aa45-40d0-8256-8d7e7f9daaaf",
   "metadata": {
    "tags": []
   },
   "source": [
    "#### Indexing with an array of integers"
   ]
  },
  {
   "cell_type": "code",
   "execution_count": 208,
   "id": "8a3b8105-2c01-4608-b7c8-1398bfa3fc29",
   "metadata": {
    "tags": []
   },
   "outputs": [
    {
     "name": "stdout",
     "output_type": "stream",
     "text": [
      "[ 0 10 20 30 40 50 60 70 80 90]\n"
     ]
    }
   ],
   "source": [
    "a = np.arange(0, 100, 10)\n",
    "print(a)"
   ]
  },
  {
   "cell_type": "code",
   "execution_count": 214,
   "id": "2def92ab-e695-4427-89dc-07ceef97b817",
   "metadata": {
    "tags": []
   },
   "outputs": [
    {
     "name": "stdout",
     "output_type": "stream",
     "text": [
      "False\n",
      "[2 3 2 4 2]\n"
     ]
    }
   ],
   "source": [
    "b= a[[2, 3, 2, 4, 2]]  # note: [2, 3, 2, 4, 2] is a Python list\n",
    "print(np.may_share_memory(a,a[[2, 3, 2, 4, 2]])) # 인덱싱은 메모리 공유 안함\n",
    "print(b)"
   ]
  },
  {
   "cell_type": "code",
   "execution_count": 215,
   "id": "92d8c7f2-35a7-415e-b303-b784c92a5b8f",
   "metadata": {
    "tags": []
   },
   "outputs": [
    {
     "name": "stdout",
     "output_type": "stream",
     "text": [
      "False\n"
     ]
    }
   ],
   "source": [
    "a[[9, 7]] = -100\n",
    "a\n",
    "print(np.may_share_memory(a,a[[9, 7]]))"
   ]
  }
 ],
 "metadata": {
  "kernelspec": {
   "display_name": "Python 3 (ipykernel)",
   "language": "python",
   "name": "python3"
  },
  "language_info": {
   "codemirror_mode": {
    "name": "ipython",
    "version": 3
   },
   "file_extension": ".py",
   "mimetype": "text/x-python",
   "name": "python",
   "nbconvert_exporter": "python",
   "pygments_lexer": "ipython3",
   "version": "3.10.10"
  }
 },
 "nbformat": 4,
 "nbformat_minor": 5
}
