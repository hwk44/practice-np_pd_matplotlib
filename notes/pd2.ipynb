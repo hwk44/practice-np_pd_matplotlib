{
 "cells": [
  {
   "cell_type": "code",
   "execution_count": 3,
   "id": "d3f6a8e2-e35e-42b4-8435-4f2dec46616f",
   "metadata": {
    "tags": []
   },
   "outputs": [],
   "source": [
    "import numpy as np\n",
    "\n",
    "import pandas as pd"
   ]
  },
  {
   "cell_type": "code",
   "execution_count": 7,
   "id": "2d4060b6-6dd3-4563-860c-6d7bcc04bc65",
   "metadata": {
    "tags": []
   },
   "outputs": [
    {
     "data": {
      "text/html": [
       "<div>\n",
       "<style scoped>\n",
       "    .dataframe tbody tr th:only-of-type {\n",
       "        vertical-align: middle;\n",
       "    }\n",
       "\n",
       "    .dataframe tbody tr th {\n",
       "        vertical-align: top;\n",
       "    }\n",
       "\n",
       "    .dataframe thead th {\n",
       "        text-align: right;\n",
       "    }\n",
       "</style>\n",
       "<table border=\"1\" class=\"dataframe\">\n",
       "  <thead>\n",
       "    <tr style=\"text-align: right;\">\n",
       "      <th></th>\n",
       "      <th>A</th>\n",
       "      <th>B</th>\n",
       "      <th>C</th>\n",
       "      <th>D</th>\n",
       "    </tr>\n",
       "  </thead>\n",
       "  <tbody>\n",
       "    <tr>\n",
       "      <th>2013-01-01</th>\n",
       "      <td>-0.742038</td>\n",
       "      <td>1.634881</td>\n",
       "      <td>1.343994</td>\n",
       "      <td>-0.195715</td>\n",
       "    </tr>\n",
       "    <tr>\n",
       "      <th>2013-01-02</th>\n",
       "      <td>0.699310</td>\n",
       "      <td>-0.022518</td>\n",
       "      <td>-0.359163</td>\n",
       "      <td>1.974134</td>\n",
       "    </tr>\n",
       "    <tr>\n",
       "      <th>2013-01-03</th>\n",
       "      <td>-1.394382</td>\n",
       "      <td>0.569009</td>\n",
       "      <td>-0.244224</td>\n",
       "      <td>-0.752738</td>\n",
       "    </tr>\n",
       "    <tr>\n",
       "      <th>2013-01-04</th>\n",
       "      <td>-1.912857</td>\n",
       "      <td>-0.331603</td>\n",
       "      <td>0.647700</td>\n",
       "      <td>0.134071</td>\n",
       "    </tr>\n",
       "    <tr>\n",
       "      <th>2013-01-05</th>\n",
       "      <td>-0.773153</td>\n",
       "      <td>0.622811</td>\n",
       "      <td>-1.568979</td>\n",
       "      <td>0.527875</td>\n",
       "    </tr>\n",
       "    <tr>\n",
       "      <th>2013-01-06</th>\n",
       "      <td>-1.349052</td>\n",
       "      <td>-0.519998</td>\n",
       "      <td>0.594802</td>\n",
       "      <td>0.343237</td>\n",
       "    </tr>\n",
       "  </tbody>\n",
       "</table>\n",
       "</div>"
      ],
      "text/plain": [
       "                   A         B         C         D\n",
       "2013-01-01 -0.742038  1.634881  1.343994 -0.195715\n",
       "2013-01-02  0.699310 -0.022518 -0.359163  1.974134\n",
       "2013-01-03 -1.394382  0.569009 -0.244224 -0.752738\n",
       "2013-01-04 -1.912857 -0.331603  0.647700  0.134071\n",
       "2013-01-05 -0.773153  0.622811 -1.568979  0.527875\n",
       "2013-01-06 -1.349052 -0.519998  0.594802  0.343237"
      ]
     },
     "execution_count": 7,
     "metadata": {},
     "output_type": "execute_result"
    }
   ],
   "source": [
    "dates = pd.date_range(\"20130101\", periods=6)\n",
    "\n",
    "dates\n",
    "\n",
    "df = pd.DataFrame(np.random.randn(6, 4), index=dates, columns=list(\"ABCD\"))\n",
    "\n",
    "df\n"
   ]
  },
  {
   "cell_type": "code",
   "execution_count": 8,
   "id": "cc79bcb9-6f40-4747-86ad-3f77a52b86f3",
   "metadata": {
    "tags": []
   },
   "outputs": [
    {
     "data": {
      "text/plain": [
       "A   -0.912029\n",
       "B    0.325430\n",
       "C    0.069022\n",
       "D    0.338477\n",
       "dtype: float64"
      ]
     },
     "execution_count": 8,
     "metadata": {},
     "output_type": "execute_result"
    }
   ],
   "source": [
    "df.mean() # 컬럼별로 평균"
   ]
  },
  {
   "cell_type": "code",
   "execution_count": 9,
   "id": "e473bd58-4544-468a-aa19-ff6cb8be05a4",
   "metadata": {
    "tags": []
   },
   "outputs": [
    {
     "data": {
      "text/plain": [
       "2013-01-01    0.510280\n",
       "2013-01-02    0.572941\n",
       "2013-01-03   -0.455584\n",
       "2013-01-04   -0.365672\n",
       "2013-01-05   -0.297862\n",
       "2013-01-06   -0.232753\n",
       "Freq: D, dtype: float64"
      ]
     },
     "execution_count": 9,
     "metadata": {},
     "output_type": "execute_result"
    }
   ],
   "source": [
    "df.mean(1) # 행별로 평균"
   ]
  },
  {
   "cell_type": "markdown",
   "id": "aed6590e-b1e1-4404-b385-649485318ebe",
   "metadata": {},
   "source": [
    "Join Merge"
   ]
  },
  {
   "cell_type": "code",
   "execution_count": 13,
   "id": "363febd3-7642-4626-b47c-a19097ecc096",
   "metadata": {
    "tags": []
   },
   "outputs": [
    {
     "data": {
      "text/html": [
       "<div>\n",
       "<style scoped>\n",
       "    .dataframe tbody tr th:only-of-type {\n",
       "        vertical-align: middle;\n",
       "    }\n",
       "\n",
       "    .dataframe tbody tr th {\n",
       "        vertical-align: top;\n",
       "    }\n",
       "\n",
       "    .dataframe thead th {\n",
       "        text-align: right;\n",
       "    }\n",
       "</style>\n",
       "<table border=\"1\" class=\"dataframe\">\n",
       "  <thead>\n",
       "    <tr style=\"text-align: right;\">\n",
       "      <th></th>\n",
       "      <th>0</th>\n",
       "      <th>1</th>\n",
       "      <th>2</th>\n",
       "      <th>3</th>\n",
       "    </tr>\n",
       "  </thead>\n",
       "  <tbody>\n",
       "    <tr>\n",
       "      <th>0</th>\n",
       "      <td>0.078335</td>\n",
       "      <td>1.247698</td>\n",
       "      <td>0.322843</td>\n",
       "      <td>1.129402</td>\n",
       "    </tr>\n",
       "    <tr>\n",
       "      <th>1</th>\n",
       "      <td>-1.027688</td>\n",
       "      <td>0.625728</td>\n",
       "      <td>-1.329574</td>\n",
       "      <td>-0.805358</td>\n",
       "    </tr>\n",
       "    <tr>\n",
       "      <th>2</th>\n",
       "      <td>1.027934</td>\n",
       "      <td>0.465656</td>\n",
       "      <td>0.094405</td>\n",
       "      <td>-0.782132</td>\n",
       "    </tr>\n",
       "    <tr>\n",
       "      <th>3</th>\n",
       "      <td>-0.454021</td>\n",
       "      <td>0.314192</td>\n",
       "      <td>-0.911659</td>\n",
       "      <td>-0.118772</td>\n",
       "    </tr>\n",
       "    <tr>\n",
       "      <th>4</th>\n",
       "      <td>-0.172999</td>\n",
       "      <td>0.770881</td>\n",
       "      <td>0.626628</td>\n",
       "      <td>1.619985</td>\n",
       "    </tr>\n",
       "    <tr>\n",
       "      <th>5</th>\n",
       "      <td>1.082766</td>\n",
       "      <td>-1.387326</td>\n",
       "      <td>2.495674</td>\n",
       "      <td>0.352677</td>\n",
       "    </tr>\n",
       "    <tr>\n",
       "      <th>6</th>\n",
       "      <td>1.409974</td>\n",
       "      <td>0.327217</td>\n",
       "      <td>-1.472967</td>\n",
       "      <td>-0.003351</td>\n",
       "    </tr>\n",
       "    <tr>\n",
       "      <th>7</th>\n",
       "      <td>1.730887</td>\n",
       "      <td>0.915484</td>\n",
       "      <td>1.548823</td>\n",
       "      <td>-1.251002</td>\n",
       "    </tr>\n",
       "    <tr>\n",
       "      <th>8</th>\n",
       "      <td>0.044346</td>\n",
       "      <td>-0.131092</td>\n",
       "      <td>1.861884</td>\n",
       "      <td>-1.117994</td>\n",
       "    </tr>\n",
       "    <tr>\n",
       "      <th>9</th>\n",
       "      <td>1.887351</td>\n",
       "      <td>-1.668406</td>\n",
       "      <td>-1.270740</td>\n",
       "      <td>-0.867550</td>\n",
       "    </tr>\n",
       "  </tbody>\n",
       "</table>\n",
       "</div>"
      ],
      "text/plain": [
       "          0         1         2         3\n",
       "0  0.078335  1.247698  0.322843  1.129402\n",
       "1 -1.027688  0.625728 -1.329574 -0.805358\n",
       "2  1.027934  0.465656  0.094405 -0.782132\n",
       "3 -0.454021  0.314192 -0.911659 -0.118772\n",
       "4 -0.172999  0.770881  0.626628  1.619985\n",
       "5  1.082766 -1.387326  2.495674  0.352677\n",
       "6  1.409974  0.327217 -1.472967 -0.003351\n",
       "7  1.730887  0.915484  1.548823 -1.251002\n",
       "8  0.044346 -0.131092  1.861884 -1.117994\n",
       "9  1.887351 -1.668406 -1.270740 -0.867550"
      ]
     },
     "execution_count": 13,
     "metadata": {},
     "output_type": "execute_result"
    }
   ],
   "source": [
    "df = pd.DataFrame(np.random.randn(10, 4))\n",
    "\n",
    "df"
   ]
  },
  {
   "cell_type": "code",
   "execution_count": 15,
   "id": "89265dc8-b022-486f-b6d7-4c2424278487",
   "metadata": {
    "tags": []
   },
   "outputs": [
    {
     "data": {
      "text/plain": [
       "[          0         1         2         3\n",
       " 0  0.078335  1.247698  0.322843  1.129402\n",
       " 1 -1.027688  0.625728 -1.329574 -0.805358\n",
       " 2  1.027934  0.465656  0.094405 -0.782132,\n",
       "           0         1         2         3\n",
       " 3 -0.454021  0.314192 -0.911659 -0.118772\n",
       " 4 -0.172999  0.770881  0.626628  1.619985\n",
       " 5  1.082766 -1.387326  2.495674  0.352677\n",
       " 6  1.409974  0.327217 -1.472967 -0.003351,\n",
       "           0         1         2         3\n",
       " 7  1.730887  0.915484  1.548823 -1.251002\n",
       " 8  0.044346 -0.131092  1.861884 -1.117994\n",
       " 9  1.887351 -1.668406 -1.270740 -0.867550]"
      ]
     },
     "execution_count": 15,
     "metadata": {},
     "output_type": "execute_result"
    }
   ],
   "source": [
    "pieces = [df[:3], df[3:7], df[7:]]\n",
    "\n",
    "# pd.concat(pieces)\n",
    "pieces"
   ]
  },
  {
   "cell_type": "code",
   "execution_count": 12,
   "id": "886e82a7-4b01-420e-b79d-da7c264e646a",
   "metadata": {
    "tags": []
   },
   "outputs": [
    {
     "name": "stdout",
     "output_type": "stream",
     "text": [
      "   key  lval\n",
      "0  foo     1\n",
      "1  foo     2\n",
      "   key  rval\n",
      "0  foo     4\n",
      "1  foo     5\n"
     ]
    }
   ],
   "source": [
    "left = pd.DataFrame({\"key\": [\"foo\", \"foo\"], \"lval\": [1, 2]})\n",
    "\n",
    "right = pd.DataFrame({\"key\": [\"foo\", \"foo\"], \"rval\": [4, 5]})\n",
    "\n",
    "print(left)\n",
    "print(right)"
   ]
  },
  {
   "cell_type": "code",
   "execution_count": 11,
   "id": "db3c9370-0e72-424f-bee2-4d806a5c0237",
   "metadata": {
    "tags": []
   },
   "outputs": [
    {
     "data": {
      "text/html": [
       "<div>\n",
       "<style scoped>\n",
       "    .dataframe tbody tr th:only-of-type {\n",
       "        vertical-align: middle;\n",
       "    }\n",
       "\n",
       "    .dataframe tbody tr th {\n",
       "        vertical-align: top;\n",
       "    }\n",
       "\n",
       "    .dataframe thead th {\n",
       "        text-align: right;\n",
       "    }\n",
       "</style>\n",
       "<table border=\"1\" class=\"dataframe\">\n",
       "  <thead>\n",
       "    <tr style=\"text-align: right;\">\n",
       "      <th></th>\n",
       "      <th>key</th>\n",
       "      <th>lval</th>\n",
       "      <th>rval</th>\n",
       "    </tr>\n",
       "  </thead>\n",
       "  <tbody>\n",
       "    <tr>\n",
       "      <th>0</th>\n",
       "      <td>foo</td>\n",
       "      <td>1</td>\n",
       "      <td>4</td>\n",
       "    </tr>\n",
       "    <tr>\n",
       "      <th>1</th>\n",
       "      <td>foo</td>\n",
       "      <td>1</td>\n",
       "      <td>5</td>\n",
       "    </tr>\n",
       "    <tr>\n",
       "      <th>2</th>\n",
       "      <td>foo</td>\n",
       "      <td>2</td>\n",
       "      <td>4</td>\n",
       "    </tr>\n",
       "    <tr>\n",
       "      <th>3</th>\n",
       "      <td>foo</td>\n",
       "      <td>2</td>\n",
       "      <td>5</td>\n",
       "    </tr>\n",
       "  </tbody>\n",
       "</table>\n",
       "</div>"
      ],
      "text/plain": [
       "   key  lval  rval\n",
       "0  foo     1     4\n",
       "1  foo     1     5\n",
       "2  foo     2     4\n",
       "3  foo     2     5"
      ]
     },
     "execution_count": 11,
     "metadata": {},
     "output_type": "execute_result"
    }
   ],
   "source": [
    "pd.merge(left, right, on=\"key\")"
   ]
  },
  {
   "cell_type": "code",
   "execution_count": null,
   "id": "98dcee63-d3f7-49aa-be72-d212c0ff031c",
   "metadata": {},
   "outputs": [],
   "source": []
  }
 ],
 "metadata": {
  "kernelspec": {
   "display_name": "Python 3 (ipykernel)",
   "language": "python",
   "name": "python3"
  },
  "language_info": {
   "codemirror_mode": {
    "name": "ipython",
    "version": 3
   },
   "file_extension": ".py",
   "mimetype": "text/x-python",
   "name": "python",
   "nbconvert_exporter": "python",
   "pygments_lexer": "ipython3",
   "version": "3.10.10"
  }
 },
 "nbformat": 4,
 "nbformat_minor": 5
}
